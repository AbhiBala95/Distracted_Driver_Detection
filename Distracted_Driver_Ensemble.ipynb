{
  "nbformat": 4,
  "nbformat_minor": 0,
  "metadata": {
    "colab": {
      "name": "Distracted_Driver_Ensemble.ipynb",
      "provenance": [],
      "collapsed_sections": []
    },
    "kernelspec": {
      "name": "python3",
      "display_name": "Python 3"
    },
    "accelerator": "TPU"
  },
  "cells": [
    {
      "cell_type": "code",
      "metadata": {
        "id": "HXTeGrIewGeA",
        "colab_type": "code",
        "outputId": "292f4de1-1c4e-45b2-f418-cc6f893cadb6",
        "colab": {
          "base_uri": "https://localhost:8080/",
          "height": 34
        }
      },
      "source": [
        "#Mounting the google drive to access the image folder\n",
        "from google.colab import drive\n",
        "drive.mount('/content/drive/')"
      ],
      "execution_count": 0,
      "outputs": [
        {
          "output_type": "stream",
          "text": [
            "Drive already mounted at /content/drive/; to attempt to forcibly remount, call drive.mount(\"/content/drive/\", force_remount=True).\n"
          ],
          "name": "stdout"
        }
      ]
    },
    {
      "cell_type": "code",
      "metadata": {
        "id": "VKmkQK4YwRsd",
        "colab_type": "code",
        "colab": {}
      },
      "source": [
        "#Importing the necessary libraries\n",
        "import numpy as np \n",
        "import pandas as pd \n",
        "import os"
      ],
      "execution_count": 0,
      "outputs": []
    },
    {
      "cell_type": "code",
      "metadata": {
        "id": "kRgBygv7wUis",
        "colab_type": "code",
        "colab": {}
      },
      "source": [
        "from keras import layers\n",
        "from keras import models\n",
        "from keras.utils import to_categorical\n",
        "import matplotlib.pyplot as plt\n",
        "from os import listdir, makedirs\n",
        "from keras.callbacks import ModelCheckpoint\n",
        "from keras.preprocessing.image import ImageDataGenerator\n",
        "from keras.applications import VGG16, ResNet50, VGG19, InceptionV3\n",
        "from keras.models import Sequential\n",
        "from keras.layers import Dense, Flatten, Dropout\n",
        "from keras import optimizers, regularizers\n",
        "from keras.optimizers import SGD\n",
        "from glob import glob\n",
        "import cv2\n",
        "import warnings \n",
        "warnings.filterwarnings('ignore')"
      ],
      "execution_count": 0,
      "outputs": []
    },
    {
      "cell_type": "code",
      "metadata": {
        "id": "__udKcgfwZsf",
        "colab_type": "code",
        "colab": {}
      },
      "source": [
        "import matplotlib.pyplot as plt\n",
        "%matplotlib inline\n",
        "import seaborn as sns"
      ],
      "execution_count": 0,
      "outputs": []
    },
    {
      "cell_type": "code",
      "metadata": {
        "id": "4LwjYF3vwegB",
        "colab_type": "code",
        "colab": {}
      },
      "source": [
        "from sklearn.model_selection import train_test_split\n",
        "from sklearn import metrics"
      ],
      "execution_count": 0,
      "outputs": []
    },
    {
      "cell_type": "code",
      "metadata": {
        "id": "uZFJ7WUdwhx9",
        "colab_type": "code",
        "colab": {}
      },
      "source": [
        "import keras\n",
        "from keras.models import Sequential\n",
        "from keras.layers import Conv2D, MaxPooling2D\n",
        "from keras.layers import Activation, Dense, Dropout, Flatten\n",
        "from keras.layers.normalization import BatchNormalization\n",
        "from keras.callbacks import ModelCheckpoint, EarlyStopping, TensorBoard\n",
        "from keras.losses import categorical_crossentropy\n",
        "from keras.models import Model\n",
        "from keras.models import load_model\n",
        "from keras.preprocessing import image\n",
        "from mpl_toolkits.axes_grid1 import ImageGrid"
      ],
      "execution_count": 0,
      "outputs": []
    },
    {
      "cell_type": "code",
      "metadata": {
        "id": "i50OuXyawknh",
        "colab_type": "code",
        "colab": {}
      },
      "source": [
        "import tensorflow as tf\n",
        "import time"
      ],
      "execution_count": 0,
      "outputs": []
    },
    {
      "cell_type": "code",
      "metadata": {
        "id": "nfNz613-wtnV",
        "colab_type": "code",
        "colab": {}
      },
      "source": [
        "#Saving the resized image directory to variable\n",
        "root_directory ='/content/drive/My Drive/Resized_images'"
      ],
      "execution_count": 0,
      "outputs": []
    },
    {
      "cell_type": "code",
      "metadata": {
        "id": "o7zmjxGdwwv-",
        "colab_type": "code",
        "colab": {}
      },
      "source": [
        "train_directory = os.path.join(root_directory, 'train')"
      ],
      "execution_count": 0,
      "outputs": []
    },
    {
      "cell_type": "code",
      "metadata": {
        "id": "_q_Mccu4wx3x",
        "colab_type": "code",
        "outputId": "07e92a81-3f35-4d9c-cb2c-4182303a2d0a",
        "colab": {
          "base_uri": "https://localhost:8080/",
          "height": 187
        }
      },
      "source": [
        "#Finding out the number of images for each classes\n",
        "classifications = os.listdir(train_directory)\n",
        "for classes in classifications:\n",
        "    if classes != '.DS_Store':\n",
        "        print('{}: {} images'.format(classes, len(os.listdir(os.path.join(train_directory, classes)))))"
      ],
      "execution_count": 0,
      "outputs": [
        {
          "output_type": "stream",
          "text": [
            "c0: 2489 images\n",
            "c1: 2269 images\n",
            "c2: 2325 images\n",
            "c3: 2346 images\n",
            "c4: 2334 images\n",
            "c5: 2312 images\n",
            "c6: 2325 images\n",
            "c7: 2002 images\n",
            "c8: 1911 images\n",
            "c9: 2139 images\n"
          ],
          "name": "stdout"
        }
      ]
    },
    {
      "cell_type": "code",
      "metadata": {
        "id": "Pb51PxMbw8zo",
        "colab_type": "code",
        "outputId": "1db2c34d-6fcb-428d-d216-7598c41fb566",
        "colab": {
          "base_uri": "https://localhost:8080/",
          "height": 359
        }
      },
      "source": [
        "#Creating a dataset to easily access the images\n",
        "class_list =  ['c0', 'c1', 'c2', 'c3', 'c4', 'c5', 'c6','c7', 'c8', 'c9']\n",
        "train = []\n",
        "for classKey, classValue in enumerate(class_list):\n",
        "    for file in os.listdir(os.path.join(train_directory, classValue)):\n",
        "        train.append(['train/{}/{}'.format(classValue, file), classKey, classValue])\n",
        "        \n",
        "training_data = pd.DataFrame(train, columns=['image', 'class_key', 'class_value'])\n",
        "training_data.head(10)"
      ],
      "execution_count": 0,
      "outputs": [
        {
          "output_type": "execute_result",
          "data": {
            "text/html": [
              "<div>\n",
              "<style scoped>\n",
              "    .dataframe tbody tr th:only-of-type {\n",
              "        vertical-align: middle;\n",
              "    }\n",
              "\n",
              "    .dataframe tbody tr th {\n",
              "        vertical-align: top;\n",
              "    }\n",
              "\n",
              "    .dataframe thead th {\n",
              "        text-align: right;\n",
              "    }\n",
              "</style>\n",
              "<table border=\"1\" class=\"dataframe\">\n",
              "  <thead>\n",
              "    <tr style=\"text-align: right;\">\n",
              "      <th></th>\n",
              "      <th>image</th>\n",
              "      <th>class_key</th>\n",
              "      <th>class_value</th>\n",
              "    </tr>\n",
              "  </thead>\n",
              "  <tbody>\n",
              "    <tr>\n",
              "      <th>0</th>\n",
              "      <td>train/c0/img_39359.jpg</td>\n",
              "      <td>0</td>\n",
              "      <td>c0</td>\n",
              "    </tr>\n",
              "    <tr>\n",
              "      <th>1</th>\n",
              "      <td>train/c0/img_66991.jpg</td>\n",
              "      <td>0</td>\n",
              "      <td>c0</td>\n",
              "    </tr>\n",
              "    <tr>\n",
              "      <th>2</th>\n",
              "      <td>train/c0/img_84384.jpg</td>\n",
              "      <td>0</td>\n",
              "      <td>c0</td>\n",
              "    </tr>\n",
              "    <tr>\n",
              "      <th>3</th>\n",
              "      <td>train/c0/img_77136.jpg</td>\n",
              "      <td>0</td>\n",
              "      <td>c0</td>\n",
              "    </tr>\n",
              "    <tr>\n",
              "      <th>4</th>\n",
              "      <td>train/c0/img_97165.jpg</td>\n",
              "      <td>0</td>\n",
              "      <td>c0</td>\n",
              "    </tr>\n",
              "    <tr>\n",
              "      <th>5</th>\n",
              "      <td>train/c0/img_45276.jpg</td>\n",
              "      <td>0</td>\n",
              "      <td>c0</td>\n",
              "    </tr>\n",
              "    <tr>\n",
              "      <th>6</th>\n",
              "      <td>train/c0/img_28357.jpg</td>\n",
              "      <td>0</td>\n",
              "      <td>c0</td>\n",
              "    </tr>\n",
              "    <tr>\n",
              "      <th>7</th>\n",
              "      <td>train/c0/img_59145.jpg</td>\n",
              "      <td>0</td>\n",
              "      <td>c0</td>\n",
              "    </tr>\n",
              "    <tr>\n",
              "      <th>8</th>\n",
              "      <td>train/c0/img_63859.jpg</td>\n",
              "      <td>0</td>\n",
              "      <td>c0</td>\n",
              "    </tr>\n",
              "    <tr>\n",
              "      <th>9</th>\n",
              "      <td>train/c0/img_90333.jpg</td>\n",
              "      <td>0</td>\n",
              "      <td>c0</td>\n",
              "    </tr>\n",
              "  </tbody>\n",
              "</table>\n",
              "</div>"
            ],
            "text/plain": [
              "                    image  class_key class_value\n",
              "0  train/c0/img_39359.jpg          0          c0\n",
              "1  train/c0/img_66991.jpg          0          c0\n",
              "2  train/c0/img_84384.jpg          0          c0\n",
              "3  train/c0/img_77136.jpg          0          c0\n",
              "4  train/c0/img_97165.jpg          0          c0\n",
              "5  train/c0/img_45276.jpg          0          c0\n",
              "6  train/c0/img_28357.jpg          0          c0\n",
              "7  train/c0/img_59145.jpg          0          c0\n",
              "8  train/c0/img_63859.jpg          0          c0\n",
              "9  train/c0/img_90333.jpg          0          c0"
            ]
          },
          "metadata": {
            "tags": []
          },
          "execution_count": 53
        }
      ]
    },
    {
      "cell_type": "code",
      "metadata": {
        "id": "8jsecc0rxhof",
        "colab_type": "code",
        "colab": {}
      },
      "source": [
        "ensemble_resize0 = training_data[training_data.class_value == 'c0'].head(100)"
      ],
      "execution_count": 0,
      "outputs": []
    },
    {
      "cell_type": "code",
      "metadata": {
        "id": "chzk52RBx-Dx",
        "colab_type": "code",
        "colab": {}
      },
      "source": [
        "ensemble_resize1 = training_data[training_data.class_value == 'c1'].head(100)"
      ],
      "execution_count": 0,
      "outputs": []
    },
    {
      "cell_type": "code",
      "metadata": {
        "id": "e9uhlfmMybdG",
        "colab_type": "code",
        "colab": {}
      },
      "source": [
        "ensemble_resize2 = training_data[training_data.class_value == 'c2'].head(100)"
      ],
      "execution_count": 0,
      "outputs": []
    },
    {
      "cell_type": "code",
      "metadata": {
        "id": "48omBeIgyfvl",
        "colab_type": "code",
        "colab": {}
      },
      "source": [
        "ensemble_resize3 = training_data[training_data.class_value == 'c3'].head(100)"
      ],
      "execution_count": 0,
      "outputs": []
    },
    {
      "cell_type": "code",
      "metadata": {
        "id": "b2NS6XtuyjHO",
        "colab_type": "code",
        "colab": {}
      },
      "source": [
        "ensemble_resize4 = training_data[training_data.class_value == 'c4'].head(100)"
      ],
      "execution_count": 0,
      "outputs": []
    },
    {
      "cell_type": "code",
      "metadata": {
        "id": "Z6dFRk6XynEZ",
        "colab_type": "code",
        "colab": {}
      },
      "source": [
        "ensemble_resize5 = training_data[training_data.class_value == 'c5'].head(100)"
      ],
      "execution_count": 0,
      "outputs": []
    },
    {
      "cell_type": "code",
      "metadata": {
        "id": "M4TEEx_CyrbI",
        "colab_type": "code",
        "colab": {}
      },
      "source": [
        "ensemble_resize6 = training_data[training_data.class_value == 'c6'].head(100)"
      ],
      "execution_count": 0,
      "outputs": []
    },
    {
      "cell_type": "code",
      "metadata": {
        "id": "XUQwSMZSyvLz",
        "colab_type": "code",
        "colab": {}
      },
      "source": [
        "ensemble_resize7 = training_data[training_data.class_value == 'c7'].head(100)"
      ],
      "execution_count": 0,
      "outputs": []
    },
    {
      "cell_type": "code",
      "metadata": {
        "id": "Bgt8kNyszHFt",
        "colab_type": "code",
        "colab": {}
      },
      "source": [
        "ensemble_resize8 = training_data[training_data.class_value == 'c8'].head(100)"
      ],
      "execution_count": 0,
      "outputs": []
    },
    {
      "cell_type": "code",
      "metadata": {
        "id": "V0nNuX7szK4H",
        "colab_type": "code",
        "colab": {}
      },
      "source": [
        "ensemble_resize9 = training_data[training_data.class_value == 'c9'].head(100)"
      ],
      "execution_count": 0,
      "outputs": []
    },
    {
      "cell_type": "code",
      "metadata": {
        "id": "6SHWJx70zPTc",
        "colab_type": "code",
        "colab": {}
      },
      "source": [
        "#Creating a samller dataset that contains only 100 images from each class\n",
        "ensemble_resize = pd.concat([ensemble_resize0,ensemble_resize1,ensemble_resize2,ensemble_resize3,ensemble_resize4,ensemble_resize5,ensemble_resize6,ensemble_resize7,ensemble_resize8,ensemble_resize9], ignore_index=True)"
      ],
      "execution_count": 0,
      "outputs": []
    },
    {
      "cell_type": "code",
      "metadata": {
        "id": "W31cJQH20Pj_",
        "colab_type": "code",
        "colab": {}
      },
      "source": [
        "#Saving those 1000 images to a new directory\n",
        "import cv2\n",
        "from keras.preprocessing import image\n",
        "def save_images(image_location):\n",
        "    original_image = cv2.imread(os.path.join(root_directory, image_location))\n",
        "    path = '/content/drive/My Drive/Ensemble_resize'\n",
        "    cv2.imwrite(os.path.join(path , image_location), original_image)"
      ],
      "execution_count": 0,
      "outputs": []
    },
    {
      "cell_type": "code",
      "metadata": {
        "id": "Z40A-SXc5zfJ",
        "colab_type": "code",
        "outputId": "6b26b733-3272-4f65-fad8-645bf16c777d",
        "colab": {
          "base_uri": "https://localhost:8080/",
          "height": 1000
        }
      },
      "source": [
        "dim_inp = 128\n",
        "\n",
        "for i, file in enumerate(ensemble_resize['image']):\n",
        "    save_images(file);\n",
        "    print(\"Training Image saved\")"
      ],
      "execution_count": 0,
      "outputs": [
        {
          "output_type": "stream",
          "text": [
            "Training Image saved\n",
            "Training Image saved\n",
            "Training Image saved\n",
            "Training Image saved\n",
            "Training Image saved\n",
            "Training Image saved\n",
            "Training Image saved\n",
            "Training Image saved\n",
            "Training Image saved\n",
            "Training Image saved\n",
            "Training Image saved\n",
            "Training Image saved\n",
            "Training Image saved\n",
            "Training Image saved\n",
            "Training Image saved\n",
            "Training Image saved\n",
            "Training Image saved\n",
            "Training Image saved\n",
            "Training Image saved\n",
            "Training Image saved\n",
            "Training Image saved\n",
            "Training Image saved\n",
            "Training Image saved\n",
            "Training Image saved\n",
            "Training Image saved\n",
            "Training Image saved\n",
            "Training Image saved\n",
            "Training Image saved\n",
            "Training Image saved\n",
            "Training Image saved\n",
            "Training Image saved\n",
            "Training Image saved\n",
            "Training Image saved\n",
            "Training Image saved\n",
            "Training Image saved\n",
            "Training Image saved\n",
            "Training Image saved\n",
            "Training Image saved\n",
            "Training Image saved\n",
            "Training Image saved\n",
            "Training Image saved\n",
            "Training Image saved\n",
            "Training Image saved\n",
            "Training Image saved\n",
            "Training Image saved\n",
            "Training Image saved\n",
            "Training Image saved\n",
            "Training Image saved\n",
            "Training Image saved\n",
            "Training Image saved\n",
            "Training Image saved\n",
            "Training Image saved\n",
            "Training Image saved\n",
            "Training Image saved\n",
            "Training Image saved\n",
            "Training Image saved\n",
            "Training Image saved\n",
            "Training Image saved\n",
            "Training Image saved\n",
            "Training Image saved\n",
            "Training Image saved\n",
            "Training Image saved\n",
            "Training Image saved\n",
            "Training Image saved\n",
            "Training Image saved\n",
            "Training Image saved\n",
            "Training Image saved\n",
            "Training Image saved\n",
            "Training Image saved\n",
            "Training Image saved\n",
            "Training Image saved\n",
            "Training Image saved\n",
            "Training Image saved\n",
            "Training Image saved\n",
            "Training Image saved\n",
            "Training Image saved\n",
            "Training Image saved\n",
            "Training Image saved\n",
            "Training Image saved\n",
            "Training Image saved\n",
            "Training Image saved\n",
            "Training Image saved\n",
            "Training Image saved\n",
            "Training Image saved\n",
            "Training Image saved\n",
            "Training Image saved\n",
            "Training Image saved\n",
            "Training Image saved\n",
            "Training Image saved\n",
            "Training Image saved\n",
            "Training Image saved\n",
            "Training Image saved\n",
            "Training Image saved\n",
            "Training Image saved\n",
            "Training Image saved\n",
            "Training Image saved\n",
            "Training Image saved\n",
            "Training Image saved\n",
            "Training Image saved\n",
            "Training Image saved\n",
            "Training Image saved\n",
            "Training Image saved\n",
            "Training Image saved\n",
            "Training Image saved\n",
            "Training Image saved\n",
            "Training Image saved\n",
            "Training Image saved\n",
            "Training Image saved\n",
            "Training Image saved\n",
            "Training Image saved\n",
            "Training Image saved\n",
            "Training Image saved\n",
            "Training Image saved\n",
            "Training Image saved\n",
            "Training Image saved\n",
            "Training Image saved\n",
            "Training Image saved\n",
            "Training Image saved\n",
            "Training Image saved\n",
            "Training Image saved\n",
            "Training Image saved\n",
            "Training Image saved\n",
            "Training Image saved\n",
            "Training Image saved\n",
            "Training Image saved\n",
            "Training Image saved\n",
            "Training Image saved\n",
            "Training Image saved\n",
            "Training Image saved\n",
            "Training Image saved\n",
            "Training Image saved\n",
            "Training Image saved\n",
            "Training Image saved\n",
            "Training Image saved\n",
            "Training Image saved\n",
            "Training Image saved\n",
            "Training Image saved\n",
            "Training Image saved\n",
            "Training Image saved\n",
            "Training Image saved\n",
            "Training Image saved\n",
            "Training Image saved\n",
            "Training Image saved\n",
            "Training Image saved\n",
            "Training Image saved\n",
            "Training Image saved\n",
            "Training Image saved\n",
            "Training Image saved\n",
            "Training Image saved\n",
            "Training Image saved\n",
            "Training Image saved\n",
            "Training Image saved\n",
            "Training Image saved\n",
            "Training Image saved\n",
            "Training Image saved\n",
            "Training Image saved\n",
            "Training Image saved\n",
            "Training Image saved\n",
            "Training Image saved\n",
            "Training Image saved\n",
            "Training Image saved\n",
            "Training Image saved\n",
            "Training Image saved\n",
            "Training Image saved\n",
            "Training Image saved\n",
            "Training Image saved\n",
            "Training Image saved\n",
            "Training Image saved\n",
            "Training Image saved\n",
            "Training Image saved\n",
            "Training Image saved\n",
            "Training Image saved\n",
            "Training Image saved\n",
            "Training Image saved\n",
            "Training Image saved\n",
            "Training Image saved\n",
            "Training Image saved\n",
            "Training Image saved\n",
            "Training Image saved\n",
            "Training Image saved\n",
            "Training Image saved\n",
            "Training Image saved\n",
            "Training Image saved\n",
            "Training Image saved\n",
            "Training Image saved\n",
            "Training Image saved\n",
            "Training Image saved\n",
            "Training Image saved\n",
            "Training Image saved\n",
            "Training Image saved\n",
            "Training Image saved\n",
            "Training Image saved\n",
            "Training Image saved\n",
            "Training Image saved\n",
            "Training Image saved\n",
            "Training Image saved\n",
            "Training Image saved\n",
            "Training Image saved\n",
            "Training Image saved\n",
            "Training Image saved\n",
            "Training Image saved\n",
            "Training Image saved\n",
            "Training Image saved\n",
            "Training Image saved\n",
            "Training Image saved\n",
            "Training Image saved\n",
            "Training Image saved\n",
            "Training Image saved\n",
            "Training Image saved\n",
            "Training Image saved\n",
            "Training Image saved\n",
            "Training Image saved\n",
            "Training Image saved\n",
            "Training Image saved\n",
            "Training Image saved\n",
            "Training Image saved\n",
            "Training Image saved\n",
            "Training Image saved\n",
            "Training Image saved\n",
            "Training Image saved\n",
            "Training Image saved\n",
            "Training Image saved\n",
            "Training Image saved\n",
            "Training Image saved\n",
            "Training Image saved\n",
            "Training Image saved\n",
            "Training Image saved\n",
            "Training Image saved\n",
            "Training Image saved\n",
            "Training Image saved\n",
            "Training Image saved\n",
            "Training Image saved\n",
            "Training Image saved\n",
            "Training Image saved\n",
            "Training Image saved\n",
            "Training Image saved\n",
            "Training Image saved\n",
            "Training Image saved\n",
            "Training Image saved\n",
            "Training Image saved\n",
            "Training Image saved\n",
            "Training Image saved\n",
            "Training Image saved\n",
            "Training Image saved\n",
            "Training Image saved\n",
            "Training Image saved\n",
            "Training Image saved\n",
            "Training Image saved\n",
            "Training Image saved\n",
            "Training Image saved\n",
            "Training Image saved\n",
            "Training Image saved\n",
            "Training Image saved\n",
            "Training Image saved\n",
            "Training Image saved\n",
            "Training Image saved\n",
            "Training Image saved\n",
            "Training Image saved\n",
            "Training Image saved\n",
            "Training Image saved\n",
            "Training Image saved\n",
            "Training Image saved\n",
            "Training Image saved\n",
            "Training Image saved\n",
            "Training Image saved\n",
            "Training Image saved\n",
            "Training Image saved\n",
            "Training Image saved\n",
            "Training Image saved\n",
            "Training Image saved\n",
            "Training Image saved\n",
            "Training Image saved\n",
            "Training Image saved\n",
            "Training Image saved\n",
            "Training Image saved\n",
            "Training Image saved\n",
            "Training Image saved\n",
            "Training Image saved\n",
            "Training Image saved\n",
            "Training Image saved\n",
            "Training Image saved\n",
            "Training Image saved\n",
            "Training Image saved\n",
            "Training Image saved\n",
            "Training Image saved\n",
            "Training Image saved\n",
            "Training Image saved\n",
            "Training Image saved\n",
            "Training Image saved\n",
            "Training Image saved\n",
            "Training Image saved\n",
            "Training Image saved\n",
            "Training Image saved\n",
            "Training Image saved\n",
            "Training Image saved\n",
            "Training Image saved\n",
            "Training Image saved\n",
            "Training Image saved\n",
            "Training Image saved\n",
            "Training Image saved\n",
            "Training Image saved\n",
            "Training Image saved\n",
            "Training Image saved\n",
            "Training Image saved\n",
            "Training Image saved\n",
            "Training Image saved\n",
            "Training Image saved\n",
            "Training Image saved\n",
            "Training Image saved\n",
            "Training Image saved\n",
            "Training Image saved\n",
            "Training Image saved\n",
            "Training Image saved\n",
            "Training Image saved\n",
            "Training Image saved\n",
            "Training Image saved\n",
            "Training Image saved\n",
            "Training Image saved\n",
            "Training Image saved\n",
            "Training Image saved\n",
            "Training Image saved\n",
            "Training Image saved\n",
            "Training Image saved\n",
            "Training Image saved\n",
            "Training Image saved\n",
            "Training Image saved\n",
            "Training Image saved\n",
            "Training Image saved\n",
            "Training Image saved\n",
            "Training Image saved\n",
            "Training Image saved\n",
            "Training Image saved\n",
            "Training Image saved\n",
            "Training Image saved\n",
            "Training Image saved\n",
            "Training Image saved\n",
            "Training Image saved\n",
            "Training Image saved\n",
            "Training Image saved\n",
            "Training Image saved\n",
            "Training Image saved\n",
            "Training Image saved\n",
            "Training Image saved\n",
            "Training Image saved\n",
            "Training Image saved\n",
            "Training Image saved\n",
            "Training Image saved\n",
            "Training Image saved\n",
            "Training Image saved\n",
            "Training Image saved\n",
            "Training Image saved\n",
            "Training Image saved\n",
            "Training Image saved\n",
            "Training Image saved\n",
            "Training Image saved\n",
            "Training Image saved\n",
            "Training Image saved\n",
            "Training Image saved\n",
            "Training Image saved\n",
            "Training Image saved\n",
            "Training Image saved\n",
            "Training Image saved\n",
            "Training Image saved\n",
            "Training Image saved\n",
            "Training Image saved\n",
            "Training Image saved\n",
            "Training Image saved\n",
            "Training Image saved\n",
            "Training Image saved\n",
            "Training Image saved\n",
            "Training Image saved\n",
            "Training Image saved\n",
            "Training Image saved\n",
            "Training Image saved\n",
            "Training Image saved\n",
            "Training Image saved\n",
            "Training Image saved\n",
            "Training Image saved\n",
            "Training Image saved\n",
            "Training Image saved\n",
            "Training Image saved\n",
            "Training Image saved\n",
            "Training Image saved\n",
            "Training Image saved\n",
            "Training Image saved\n",
            "Training Image saved\n",
            "Training Image saved\n",
            "Training Image saved\n",
            "Training Image saved\n",
            "Training Image saved\n",
            "Training Image saved\n",
            "Training Image saved\n",
            "Training Image saved\n",
            "Training Image saved\n",
            "Training Image saved\n",
            "Training Image saved\n",
            "Training Image saved\n",
            "Training Image saved\n",
            "Training Image saved\n",
            "Training Image saved\n",
            "Training Image saved\n",
            "Training Image saved\n",
            "Training Image saved\n",
            "Training Image saved\n",
            "Training Image saved\n",
            "Training Image saved\n",
            "Training Image saved\n",
            "Training Image saved\n",
            "Training Image saved\n",
            "Training Image saved\n",
            "Training Image saved\n",
            "Training Image saved\n",
            "Training Image saved\n",
            "Training Image saved\n",
            "Training Image saved\n",
            "Training Image saved\n",
            "Training Image saved\n",
            "Training Image saved\n",
            "Training Image saved\n",
            "Training Image saved\n",
            "Training Image saved\n",
            "Training Image saved\n",
            "Training Image saved\n",
            "Training Image saved\n",
            "Training Image saved\n",
            "Training Image saved\n",
            "Training Image saved\n",
            "Training Image saved\n",
            "Training Image saved\n",
            "Training Image saved\n",
            "Training Image saved\n",
            "Training Image saved\n",
            "Training Image saved\n",
            "Training Image saved\n",
            "Training Image saved\n",
            "Training Image saved\n",
            "Training Image saved\n",
            "Training Image saved\n",
            "Training Image saved\n",
            "Training Image saved\n",
            "Training Image saved\n",
            "Training Image saved\n",
            "Training Image saved\n",
            "Training Image saved\n",
            "Training Image saved\n",
            "Training Image saved\n",
            "Training Image saved\n",
            "Training Image saved\n",
            "Training Image saved\n",
            "Training Image saved\n",
            "Training Image saved\n",
            "Training Image saved\n",
            "Training Image saved\n",
            "Training Image saved\n",
            "Training Image saved\n",
            "Training Image saved\n",
            "Training Image saved\n",
            "Training Image saved\n",
            "Training Image saved\n",
            "Training Image saved\n",
            "Training Image saved\n",
            "Training Image saved\n",
            "Training Image saved\n",
            "Training Image saved\n",
            "Training Image saved\n",
            "Training Image saved\n",
            "Training Image saved\n",
            "Training Image saved\n",
            "Training Image saved\n",
            "Training Image saved\n",
            "Training Image saved\n",
            "Training Image saved\n",
            "Training Image saved\n",
            "Training Image saved\n",
            "Training Image saved\n",
            "Training Image saved\n",
            "Training Image saved\n",
            "Training Image saved\n",
            "Training Image saved\n",
            "Training Image saved\n",
            "Training Image saved\n",
            "Training Image saved\n",
            "Training Image saved\n",
            "Training Image saved\n",
            "Training Image saved\n",
            "Training Image saved\n",
            "Training Image saved\n",
            "Training Image saved\n",
            "Training Image saved\n",
            "Training Image saved\n",
            "Training Image saved\n",
            "Training Image saved\n",
            "Training Image saved\n",
            "Training Image saved\n",
            "Training Image saved\n",
            "Training Image saved\n",
            "Training Image saved\n",
            "Training Image saved\n",
            "Training Image saved\n",
            "Training Image saved\n",
            "Training Image saved\n",
            "Training Image saved\n",
            "Training Image saved\n",
            "Training Image saved\n",
            "Training Image saved\n",
            "Training Image saved\n",
            "Training Image saved\n",
            "Training Image saved\n",
            "Training Image saved\n",
            "Training Image saved\n",
            "Training Image saved\n",
            "Training Image saved\n",
            "Training Image saved\n",
            "Training Image saved\n",
            "Training Image saved\n",
            "Training Image saved\n",
            "Training Image saved\n",
            "Training Image saved\n",
            "Training Image saved\n",
            "Training Image saved\n",
            "Training Image saved\n",
            "Training Image saved\n",
            "Training Image saved\n",
            "Training Image saved\n",
            "Training Image saved\n",
            "Training Image saved\n",
            "Training Image saved\n",
            "Training Image saved\n",
            "Training Image saved\n",
            "Training Image saved\n",
            "Training Image saved\n",
            "Training Image saved\n",
            "Training Image saved\n",
            "Training Image saved\n",
            "Training Image saved\n",
            "Training Image saved\n",
            "Training Image saved\n",
            "Training Image saved\n",
            "Training Image saved\n",
            "Training Image saved\n",
            "Training Image saved\n",
            "Training Image saved\n",
            "Training Image saved\n",
            "Training Image saved\n",
            "Training Image saved\n",
            "Training Image saved\n",
            "Training Image saved\n",
            "Training Image saved\n",
            "Training Image saved\n",
            "Training Image saved\n",
            "Training Image saved\n",
            "Training Image saved\n",
            "Training Image saved\n",
            "Training Image saved\n",
            "Training Image saved\n",
            "Training Image saved\n",
            "Training Image saved\n",
            "Training Image saved\n",
            "Training Image saved\n",
            "Training Image saved\n",
            "Training Image saved\n",
            "Training Image saved\n",
            "Training Image saved\n",
            "Training Image saved\n",
            "Training Image saved\n",
            "Training Image saved\n",
            "Training Image saved\n",
            "Training Image saved\n",
            "Training Image saved\n",
            "Training Image saved\n",
            "Training Image saved\n",
            "Training Image saved\n",
            "Training Image saved\n",
            "Training Image saved\n",
            "Training Image saved\n",
            "Training Image saved\n",
            "Training Image saved\n",
            "Training Image saved\n",
            "Training Image saved\n",
            "Training Image saved\n",
            "Training Image saved\n",
            "Training Image saved\n",
            "Training Image saved\n",
            "Training Image saved\n",
            "Training Image saved\n",
            "Training Image saved\n",
            "Training Image saved\n",
            "Training Image saved\n",
            "Training Image saved\n",
            "Training Image saved\n",
            "Training Image saved\n",
            "Training Image saved\n",
            "Training Image saved\n",
            "Training Image saved\n",
            "Training Image saved\n",
            "Training Image saved\n",
            "Training Image saved\n",
            "Training Image saved\n",
            "Training Image saved\n",
            "Training Image saved\n",
            "Training Image saved\n",
            "Training Image saved\n",
            "Training Image saved\n",
            "Training Image saved\n",
            "Training Image saved\n",
            "Training Image saved\n",
            "Training Image saved\n",
            "Training Image saved\n",
            "Training Image saved\n",
            "Training Image saved\n",
            "Training Image saved\n",
            "Training Image saved\n",
            "Training Image saved\n",
            "Training Image saved\n",
            "Training Image saved\n",
            "Training Image saved\n",
            "Training Image saved\n",
            "Training Image saved\n",
            "Training Image saved\n",
            "Training Image saved\n",
            "Training Image saved\n",
            "Training Image saved\n",
            "Training Image saved\n",
            "Training Image saved\n",
            "Training Image saved\n",
            "Training Image saved\n",
            "Training Image saved\n",
            "Training Image saved\n",
            "Training Image saved\n",
            "Training Image saved\n",
            "Training Image saved\n",
            "Training Image saved\n",
            "Training Image saved\n",
            "Training Image saved\n",
            "Training Image saved\n",
            "Training Image saved\n",
            "Training Image saved\n",
            "Training Image saved\n",
            "Training Image saved\n",
            "Training Image saved\n",
            "Training Image saved\n",
            "Training Image saved\n",
            "Training Image saved\n",
            "Training Image saved\n",
            "Training Image saved\n",
            "Training Image saved\n",
            "Training Image saved\n",
            "Training Image saved\n",
            "Training Image saved\n",
            "Training Image saved\n",
            "Training Image saved\n",
            "Training Image saved\n",
            "Training Image saved\n",
            "Training Image saved\n",
            "Training Image saved\n",
            "Training Image saved\n",
            "Training Image saved\n",
            "Training Image saved\n",
            "Training Image saved\n",
            "Training Image saved\n",
            "Training Image saved\n",
            "Training Image saved\n",
            "Training Image saved\n",
            "Training Image saved\n",
            "Training Image saved\n",
            "Training Image saved\n",
            "Training Image saved\n",
            "Training Image saved\n",
            "Training Image saved\n",
            "Training Image saved\n",
            "Training Image saved\n",
            "Training Image saved\n",
            "Training Image saved\n",
            "Training Image saved\n",
            "Training Image saved\n",
            "Training Image saved\n",
            "Training Image saved\n",
            "Training Image saved\n",
            "Training Image saved\n",
            "Training Image saved\n",
            "Training Image saved\n",
            "Training Image saved\n",
            "Training Image saved\n",
            "Training Image saved\n",
            "Training Image saved\n",
            "Training Image saved\n",
            "Training Image saved\n",
            "Training Image saved\n",
            "Training Image saved\n",
            "Training Image saved\n",
            "Training Image saved\n",
            "Training Image saved\n",
            "Training Image saved\n",
            "Training Image saved\n",
            "Training Image saved\n",
            "Training Image saved\n",
            "Training Image saved\n",
            "Training Image saved\n",
            "Training Image saved\n",
            "Training Image saved\n",
            "Training Image saved\n",
            "Training Image saved\n",
            "Training Image saved\n",
            "Training Image saved\n",
            "Training Image saved\n",
            "Training Image saved\n",
            "Training Image saved\n",
            "Training Image saved\n",
            "Training Image saved\n",
            "Training Image saved\n",
            "Training Image saved\n",
            "Training Image saved\n",
            "Training Image saved\n",
            "Training Image saved\n",
            "Training Image saved\n",
            "Training Image saved\n",
            "Training Image saved\n",
            "Training Image saved\n",
            "Training Image saved\n",
            "Training Image saved\n",
            "Training Image saved\n",
            "Training Image saved\n",
            "Training Image saved\n",
            "Training Image saved\n",
            "Training Image saved\n",
            "Training Image saved\n",
            "Training Image saved\n",
            "Training Image saved\n",
            "Training Image saved\n",
            "Training Image saved\n",
            "Training Image saved\n",
            "Training Image saved\n",
            "Training Image saved\n",
            "Training Image saved\n",
            "Training Image saved\n",
            "Training Image saved\n",
            "Training Image saved\n",
            "Training Image saved\n",
            "Training Image saved\n",
            "Training Image saved\n",
            "Training Image saved\n",
            "Training Image saved\n",
            "Training Image saved\n",
            "Training Image saved\n",
            "Training Image saved\n",
            "Training Image saved\n",
            "Training Image saved\n",
            "Training Image saved\n",
            "Training Image saved\n",
            "Training Image saved\n",
            "Training Image saved\n",
            "Training Image saved\n",
            "Training Image saved\n",
            "Training Image saved\n",
            "Training Image saved\n",
            "Training Image saved\n",
            "Training Image saved\n",
            "Training Image saved\n",
            "Training Image saved\n",
            "Training Image saved\n",
            "Training Image saved\n",
            "Training Image saved\n",
            "Training Image saved\n",
            "Training Image saved\n",
            "Training Image saved\n",
            "Training Image saved\n",
            "Training Image saved\n",
            "Training Image saved\n",
            "Training Image saved\n",
            "Training Image saved\n",
            "Training Image saved\n",
            "Training Image saved\n",
            "Training Image saved\n",
            "Training Image saved\n",
            "Training Image saved\n",
            "Training Image saved\n",
            "Training Image saved\n",
            "Training Image saved\n",
            "Training Image saved\n",
            "Training Image saved\n",
            "Training Image saved\n",
            "Training Image saved\n",
            "Training Image saved\n",
            "Training Image saved\n",
            "Training Image saved\n",
            "Training Image saved\n",
            "Training Image saved\n",
            "Training Image saved\n",
            "Training Image saved\n",
            "Training Image saved\n",
            "Training Image saved\n",
            "Training Image saved\n",
            "Training Image saved\n",
            "Training Image saved\n",
            "Training Image saved\n",
            "Training Image saved\n",
            "Training Image saved\n",
            "Training Image saved\n",
            "Training Image saved\n",
            "Training Image saved\n",
            "Training Image saved\n",
            "Training Image saved\n",
            "Training Image saved\n",
            "Training Image saved\n",
            "Training Image saved\n",
            "Training Image saved\n",
            "Training Image saved\n",
            "Training Image saved\n",
            "Training Image saved\n",
            "Training Image saved\n",
            "Training Image saved\n",
            "Training Image saved\n",
            "Training Image saved\n",
            "Training Image saved\n",
            "Training Image saved\n",
            "Training Image saved\n",
            "Training Image saved\n",
            "Training Image saved\n",
            "Training Image saved\n",
            "Training Image saved\n",
            "Training Image saved\n",
            "Training Image saved\n",
            "Training Image saved\n",
            "Training Image saved\n",
            "Training Image saved\n",
            "Training Image saved\n",
            "Training Image saved\n",
            "Training Image saved\n",
            "Training Image saved\n",
            "Training Image saved\n",
            "Training Image saved\n",
            "Training Image saved\n",
            "Training Image saved\n",
            "Training Image saved\n",
            "Training Image saved\n",
            "Training Image saved\n",
            "Training Image saved\n",
            "Training Image saved\n",
            "Training Image saved\n",
            "Training Image saved\n",
            "Training Image saved\n",
            "Training Image saved\n",
            "Training Image saved\n",
            "Training Image saved\n",
            "Training Image saved\n",
            "Training Image saved\n",
            "Training Image saved\n",
            "Training Image saved\n",
            "Training Image saved\n",
            "Training Image saved\n",
            "Training Image saved\n",
            "Training Image saved\n",
            "Training Image saved\n",
            "Training Image saved\n",
            "Training Image saved\n",
            "Training Image saved\n",
            "Training Image saved\n",
            "Training Image saved\n",
            "Training Image saved\n",
            "Training Image saved\n",
            "Training Image saved\n",
            "Training Image saved\n",
            "Training Image saved\n",
            "Training Image saved\n",
            "Training Image saved\n",
            "Training Image saved\n",
            "Training Image saved\n",
            "Training Image saved\n",
            "Training Image saved\n",
            "Training Image saved\n",
            "Training Image saved\n",
            "Training Image saved\n",
            "Training Image saved\n",
            "Training Image saved\n",
            "Training Image saved\n",
            "Training Image saved\n",
            "Training Image saved\n",
            "Training Image saved\n",
            "Training Image saved\n",
            "Training Image saved\n",
            "Training Image saved\n",
            "Training Image saved\n",
            "Training Image saved\n",
            "Training Image saved\n",
            "Training Image saved\n",
            "Training Image saved\n",
            "Training Image saved\n",
            "Training Image saved\n",
            "Training Image saved\n",
            "Training Image saved\n",
            "Training Image saved\n",
            "Training Image saved\n",
            "Training Image saved\n",
            "Training Image saved\n",
            "Training Image saved\n",
            "Training Image saved\n",
            "Training Image saved\n",
            "Training Image saved\n",
            "Training Image saved\n",
            "Training Image saved\n",
            "Training Image saved\n",
            "Training Image saved\n",
            "Training Image saved\n",
            "Training Image saved\n",
            "Training Image saved\n",
            "Training Image saved\n",
            "Training Image saved\n",
            "Training Image saved\n",
            "Training Image saved\n",
            "Training Image saved\n",
            "Training Image saved\n",
            "Training Image saved\n",
            "Training Image saved\n",
            "Training Image saved\n",
            "Training Image saved\n",
            "Training Image saved\n",
            "Training Image saved\n",
            "Training Image saved\n",
            "Training Image saved\n",
            "Training Image saved\n",
            "Training Image saved\n",
            "Training Image saved\n",
            "Training Image saved\n",
            "Training Image saved\n",
            "Training Image saved\n",
            "Training Image saved\n",
            "Training Image saved\n",
            "Training Image saved\n",
            "Training Image saved\n",
            "Training Image saved\n",
            "Training Image saved\n",
            "Training Image saved\n",
            "Training Image saved\n",
            "Training Image saved\n",
            "Training Image saved\n",
            "Training Image saved\n",
            "Training Image saved\n",
            "Training Image saved\n",
            "Training Image saved\n",
            "Training Image saved\n",
            "Training Image saved\n",
            "Training Image saved\n",
            "Training Image saved\n",
            "Training Image saved\n",
            "Training Image saved\n",
            "Training Image saved\n",
            "Training Image saved\n",
            "Training Image saved\n",
            "Training Image saved\n",
            "Training Image saved\n",
            "Training Image saved\n",
            "Training Image saved\n",
            "Training Image saved\n",
            "Training Image saved\n",
            "Training Image saved\n",
            "Training Image saved\n",
            "Training Image saved\n",
            "Training Image saved\n",
            "Training Image saved\n",
            "Training Image saved\n",
            "Training Image saved\n",
            "Training Image saved\n",
            "Training Image saved\n",
            "Training Image saved\n",
            "Training Image saved\n",
            "Training Image saved\n",
            "Training Image saved\n",
            "Training Image saved\n",
            "Training Image saved\n",
            "Training Image saved\n",
            "Training Image saved\n",
            "Training Image saved\n",
            "Training Image saved\n",
            "Training Image saved\n",
            "Training Image saved\n",
            "Training Image saved\n",
            "Training Image saved\n",
            "Training Image saved\n",
            "Training Image saved\n",
            "Training Image saved\n",
            "Training Image saved\n",
            "Training Image saved\n",
            "Training Image saved\n",
            "Training Image saved\n",
            "Training Image saved\n",
            "Training Image saved\n",
            "Training Image saved\n",
            "Training Image saved\n",
            "Training Image saved\n",
            "Training Image saved\n",
            "Training Image saved\n",
            "Training Image saved\n",
            "Training Image saved\n",
            "Training Image saved\n",
            "Training Image saved\n",
            "Training Image saved\n",
            "Training Image saved\n",
            "Training Image saved\n",
            "Training Image saved\n",
            "Training Image saved\n"
          ],
          "name": "stdout"
        }
      ]
    },
    {
      "cell_type": "code",
      "metadata": {
        "id": "h0eKLsqN8qAO",
        "colab_type": "code",
        "outputId": "7408b34b-9410-4510-ecf5-42eb83202910",
        "colab": {
          "base_uri": "https://localhost:8080/",
          "height": 187
        }
      },
      "source": [
        "#Finding the number of images for each class in the new directory\n",
        "classifications = os.listdir(train_directory)\n",
        "for classes in classifications:\n",
        "    if classes != '.DS_Store':\n",
        "        print('{}: {} images'.format(classes, len(os.listdir(os.path.join('/content/drive/My Drive/Ensemble_resize/train',classes)))))"
      ],
      "execution_count": 0,
      "outputs": [
        {
          "output_type": "stream",
          "text": [
            "c0: 100 images\n",
            "c1: 100 images\n",
            "c2: 100 images\n",
            "c3: 100 images\n",
            "c4: 100 images\n",
            "c5: 100 images\n",
            "c6: 100 images\n",
            "c7: 100 images\n",
            "c8: 100 images\n",
            "c9: 100 images\n"
          ],
          "name": "stdout"
        }
      ]
    },
    {
      "cell_type": "code",
      "metadata": {
        "id": "Ogf7L5M3ADl0",
        "colab_type": "code",
        "outputId": "4ae8b546-a718-4c43-886d-72f402854d2c",
        "colab": {
          "base_uri": "https://localhost:8080/",
          "height": 34
        }
      },
      "source": [
        "#Finding out the number of output classes\n",
        "class_numbers = len(np.unique(ensemble_resize[\"class_key\"]))\n",
        "print(\"number of classes in the given images: \", class_numbers)"
      ],
      "execution_count": 0,
      "outputs": [
        {
          "output_type": "stream",
          "text": [
            "number of classes in the given images:  10\n"
          ],
          "name": "stdout"
        }
      ]
    },
    {
      "cell_type": "code",
      "metadata": {
        "id": "_HYqykF4ASid",
        "colab_type": "code",
        "colab": {}
      },
      "source": [
        "#Performing Test Train Split\n",
        "from sklearn.model_selection  import train_test_split\n",
        "output = ensemble_resize[\"class_key\"]\n",
        "\n",
        "test_size = 0.30\n",
        "seed = 10\n",
        "X_train, X_val, y_train, y_val = train_test_split(ensemble_resize, output, test_size=test_size, random_state=seed)"
      ],
      "execution_count": 0,
      "outputs": []
    },
    {
      "cell_type": "code",
      "metadata": {
        "id": "QGwz-X7GAdyP",
        "colab_type": "code",
        "outputId": "dd5ad95a-b093-47e7-df26-ecd8b34f9ab8",
        "colab": {
          "base_uri": "https://localhost:8080/",
          "height": 51
        }
      },
      "source": [
        "print(\"Dimensions of the training dataset: {}\".format(X_train.shape))\n",
        "print(\"Dimensions of the validation dataset: {}\".format(X_val.shape))"
      ],
      "execution_count": 0,
      "outputs": [
        {
          "output_type": "stream",
          "text": [
            "Dimensions of the training dataset: (700, 3)\n",
            "Dimensions of the validation dataset: (300, 3)\n"
          ],
          "name": "stdout"
        }
      ]
    },
    {
      "cell_type": "code",
      "metadata": {
        "id": "K66bAqKoA0fz",
        "colab_type": "code",
        "colab": {}
      },
      "source": [
        "ensemble_directory='/content/drive/My Drive/Ensemble_resize'"
      ],
      "execution_count": 0,
      "outputs": []
    },
    {
      "cell_type": "code",
      "metadata": {
        "id": "PlcjUQScAikQ",
        "colab_type": "code",
        "colab": {}
      },
      "source": [
        "#Finding out the image dimension for train and validation data\n",
        "import cv2\n",
        "from keras.preprocessing import image\n",
        "def dimension_images(image_location, size):\n",
        "    original_image = cv2.imread(os.path.join(ensemble_directory, image_location))\n",
        "    image_dimension = image.img_to_array(original_image)\n",
        "    image_dimension = np.expand_dims(image_dimension.copy(), axis=0)\n",
        "    return image_dimension"
      ],
      "execution_count": 0,
      "outputs": []
    },
    {
      "cell_type": "code",
      "metadata": {
        "id": "YspNEu6rBEFv",
        "colab_type": "code",
        "outputId": "09ccc9bf-e723-4128-fd8d-7c2cc254d4e3",
        "colab": {
          "base_uri": "https://localhost:8080/",
          "height": 34
        }
      },
      "source": [
        "dim_inp = 128\n",
        "\n",
        "# reading image file for traing dataset\n",
        "X_train_parameters = np.zeros((len(X_train), dim_inp, dim_inp, 3), dtype='float32')\n",
        "for i, file in enumerate(X_train['image']):\n",
        "    data_image = dimension_images(file, (dim_inp, dim_inp))\n",
        "    X_train_parameters[i] = data_image\n",
        "print('Training Images shape: {} size: {:,}'.format(X_train_parameters.shape, X_train_parameters.size))"
      ],
      "execution_count": 0,
      "outputs": [
        {
          "output_type": "stream",
          "text": [
            "Training Images shape: (700, 128, 128, 3) size: 34,406,400\n"
          ],
          "name": "stdout"
        }
      ]
    },
    {
      "cell_type": "code",
      "metadata": {
        "id": "i57LW5EsBQRi",
        "colab_type": "code",
        "outputId": "47580442-fe9e-4875-945d-860d09fcf119",
        "colab": {
          "base_uri": "https://localhost:8080/",
          "height": 34
        }
      },
      "source": [
        "X_val_parameters = np.zeros((len(X_val), dim_inp, dim_inp, 3), dtype='float32')\n",
        "for i, file in enumerate(X_val['image']):\n",
        "    data_image = dimension_images(file, (dim_inp, dim_inp))\n",
        "    X_val_parameters[i] = data_image\n",
        "print('Validation Images shape: {} size: {:,}'.format(X_val_parameters.shape, X_val_parameters.size))"
      ],
      "execution_count": 0,
      "outputs": [
        {
          "output_type": "stream",
          "text": [
            "Validation Images shape: (300, 128, 128, 3) size: 14,745,600\n"
          ],
          "name": "stdout"
        }
      ]
    },
    {
      "cell_type": "code",
      "metadata": {
        "id": "eq_dDyREBUZ9",
        "colab_type": "code",
        "colab": {}
      },
      "source": [
        "X_train_parameters = X_train_parameters.astype('float32')/255\n",
        "X_val_parameters = X_val_parameters.astype('float32')/255"
      ],
      "execution_count": 0,
      "outputs": []
    },
    {
      "cell_type": "code",
      "metadata": {
        "id": "f1NgTo9SBcfz",
        "colab_type": "code",
        "colab": {}
      },
      "source": [
        "y_train_category = keras.utils.to_categorical(y_train, num_classes=class_numbers)\n",
        "y_val_category = keras.utils.to_categorical(y_val, num_classes=class_numbers)"
      ],
      "execution_count": 0,
      "outputs": []
    },
    {
      "cell_type": "code",
      "metadata": {
        "id": "exRgTwMgBgZ-",
        "colab_type": "code",
        "outputId": "3202398f-cb83-4e8f-e99b-d96d0dd7402f",
        "colab": {
          "base_uri": "https://localhost:8080/",
          "height": 68
        }
      },
      "source": [
        "print(\"Training data shape:\")\n",
        "print(\"Features: \",X_train_parameters.shape)\n",
        "print(\"Target: \",y_train_category.shape)"
      ],
      "execution_count": 0,
      "outputs": [
        {
          "output_type": "stream",
          "text": [
            "Training data shape:\n",
            "Features:  (700, 128, 128, 3)\n",
            "Target:  (700, 10)\n"
          ],
          "name": "stdout"
        }
      ]
    },
    {
      "cell_type": "code",
      "metadata": {
        "id": "OuFUEykyBj7E",
        "colab_type": "code",
        "outputId": "99120824-fe79-4067-cf3c-38b21c6703cd",
        "colab": {
          "base_uri": "https://localhost:8080/",
          "height": 85
        }
      },
      "source": [
        "print(\"\\nValidation data shape:\")\n",
        "print(\"Features: \",X_val_parameters.shape)\n",
        "print(\"Target: \",y_val_category.shape)"
      ],
      "execution_count": 0,
      "outputs": [
        {
          "output_type": "stream",
          "text": [
            "\n",
            "Validation data shape:\n",
            "Features:  (300, 128, 128, 3)\n",
            "Target:  (300, 10)\n"
          ],
          "name": "stdout"
        }
      ]
    },
    {
      "cell_type": "code",
      "metadata": {
        "id": "De4LbL2yBoU5",
        "colab_type": "code",
        "colab": {}
      },
      "source": [
        "from keras.callbacks import History\n",
        "from keras.callbacks import ModelCheckpoint, TensorBoard\n",
        "from keras.datasets import cifar10\n",
        "from keras.engine import training\n",
        "from keras.layers import Conv2D, MaxPooling2D, GlobalAveragePooling2D, Dropout, Activation, Average\n",
        "from keras.losses import categorical_crossentropy\n",
        "from keras.models import Model, Input\n",
        "from keras.optimizers import Adam\n",
        "from keras.utils import to_categorical\n",
        "from tensorflow.python.framework.ops import Tensor\n",
        "from typing import Tuple, List\n",
        "import glob\n",
        "import numpy as np\n",
        "import os"
      ],
      "execution_count": 0,
      "outputs": []
    },
    {
      "cell_type": "code",
      "metadata": {
        "id": "92OC7DK6BuP0",
        "colab_type": "code",
        "colab": {}
      },
      "source": [
        "in_parameters = X_train_parameters[0,:,:,:].shape\n",
        "mod_parameters = Input(shape=in_parameters)"
      ],
      "execution_count": 0,
      "outputs": []
    },
    {
      "cell_type": "code",
      "metadata": {
        "id": "FYljpjAQB7Z3",
        "colab_type": "code",
        "colab": {}
      },
      "source": [
        "#First Model - ConvPool-CNN\n",
        "def cnn_convolution_pooling(model_input: Tensor) -> training.Model:\n",
        "    \n",
        "    x = Conv2D(96, kernel_size=(3, 3), activation='relu', padding = 'same')(model_input)\n",
        "    x = Conv2D(96, (3, 3), activation='relu', padding = 'same')(x)\n",
        "    x = Conv2D(96, (3, 3), activation='relu', padding = 'same')(x)\n",
        "    x = MaxPooling2D(pool_size=(3, 3), strides = 2)(x)\n",
        "    x = Conv2D(192, (3, 3), activation='relu', padding = 'same')(x)\n",
        "    x = Conv2D(192, (3, 3), activation='relu', padding = 'same')(x)\n",
        "    x = Conv2D(192, (3, 3), activation='relu', padding = 'same')(x)\n",
        "    x = MaxPooling2D(pool_size=(3, 3), strides = 2)(x)\n",
        "    x = Conv2D(192, (3, 3), activation='relu', padding = 'same')(x)\n",
        "    x = Conv2D(192, (1, 1), activation='relu')(x)\n",
        "    x = Conv2D(10, (1, 1))(x)\n",
        "    x = GlobalAveragePooling2D()(x)\n",
        "    x = Activation(activation='softmax')(x)\n",
        "    \n",
        "    model = Model(model_input, x, name='cnn_convolution_pooling')\n",
        "    \n",
        "    return model"
      ],
      "execution_count": 0,
      "outputs": []
    },
    {
      "cell_type": "code",
      "metadata": {
        "id": "Ts_Pm1aYC1Aa",
        "colab_type": "code",
        "colab": {}
      },
      "source": [
        "model1 = cnn_convolution_pooling(mod_parameters)"
      ],
      "execution_count": 0,
      "outputs": []
    },
    {
      "cell_type": "code",
      "metadata": {
        "id": "6m0hG1LmDegC",
        "colab_type": "code",
        "colab": {}
      },
      "source": [
        "def build_model(model: training.Model, num_epochs: int) -> Tuple [History, str]: \n",
        "    \n",
        "    model.compile(loss=categorical_crossentropy, optimizer=Adam(), metrics=['acc']) \n",
        "    filepath = '/content/drive/My Drive/weights/' + model.name + '.{epoch:02d}-{loss:.2f}.hdf5'\n",
        "    checkpoint = ModelCheckpoint(filepath, monitor='loss', verbose=0, save_weights_only=True,\n",
        "                                                 save_best_only=True, mode='auto', period=1)\n",
        "    tensor_board = TensorBoard(log_dir='logs/', histogram_freq=0, batch_size=32)\n",
        "    history = model.fit(x=X_train_parameters, y=y_train_category, batch_size=32, \n",
        "                     epochs=num_epochs, verbose=1, callbacks=[checkpoint, tensor_board], validation_split=0.2)\n",
        "    weight_files = glob.glob('/content/drive/My Drive/weights/*')\n",
        "    weight_file = max(weight_files, key=os.path.getctime)\n",
        "    return history, weight_file"
      ],
      "execution_count": 0,
      "outputs": []
    },
    {
      "cell_type": "code",
      "metadata": {
        "id": "8JpBGbE6DqOb",
        "colab_type": "code",
        "outputId": "c11d69b0-f315-4f92-9c77-066a04f25b41",
        "colab": {
          "base_uri": "https://localhost:8080/",
          "height": 204
        }
      },
      "source": [
        "#ConvPool-CNN Output\n",
        "number_of_epochs= 5\n",
        "model1_history, model1_weights = build_model(model1, number_of_epochs)"
      ],
      "execution_count": 0,
      "outputs": [
        {
          "output_type": "stream",
          "text": [
            "Train on 560 samples, validate on 140 samples\n",
            "Epoch 1/5\n",
            "560/560 [==============================] - 470s 839ms/step - loss: 2.3078 - acc: 0.0911 - val_loss: 2.3021 - val_acc: 0.1214\n",
            "Epoch 2/5\n",
            "560/560 [==============================] - 470s 838ms/step - loss: 2.3027 - acc: 0.1054 - val_loss: 2.3026 - val_acc: 0.0857\n",
            "Epoch 3/5\n",
            "560/560 [==============================] - 470s 839ms/step - loss: 2.3026 - acc: 0.1107 - val_loss: 2.3017 - val_acc: 0.1214\n",
            "Epoch 4/5\n",
            "560/560 [==============================] - 469s 837ms/step - loss: 2.3025 - acc: 0.0929 - val_loss: 2.3023 - val_acc: 0.0857\n",
            "Epoch 5/5\n",
            "560/560 [==============================] - 475s 849ms/step - loss: 2.3024 - acc: 0.1071 - val_loss: 2.3021 - val_acc: 0.1214\n"
          ],
          "name": "stdout"
        }
      ]
    },
    {
      "cell_type": "code",
      "metadata": {
        "id": "j7R2bn8gfo0h",
        "colab_type": "code",
        "colab": {}
      },
      "source": [
        "#Second Model - All-CNN\n",
        "\n",
        "def cnn_2(model_input: Tensor) -> training.Model:\n",
        "    \n",
        "    x = Conv2D(96, kernel_size=(3, 3), activation='relu', padding = 'same')(model_input)\n",
        "    x = Conv2D(96, (3, 3), activation='relu', padding = 'same')(x)\n",
        "    x = Conv2D(96, (3, 3), activation='relu', padding = 'same', strides = 2)(x)\n",
        "    x = Conv2D(192, (3, 3), activation='relu', padding = 'same')(x)\n",
        "    x = Conv2D(192, (3, 3), activation='relu', padding = 'same')(x)\n",
        "    x = Conv2D(192, (3, 3), activation='relu', padding = 'same', strides = 2)(x)\n",
        "    x = Conv2D(192, (3, 3), activation='relu', padding = 'same')(x)\n",
        "    x = Conv2D(192, (1, 1), activation='relu')(x)\n",
        "    x = Conv2D(10, (1, 1))(x)\n",
        "    x = GlobalAveragePooling2D()(x)\n",
        "    x = Activation(activation='softmax')(x)\n",
        "        \n",
        "    model = Model(model_input, x, name='cnn_2')\n",
        "    \n",
        "    return model"
      ],
      "execution_count": 0,
      "outputs": []
    },
    {
      "cell_type": "code",
      "metadata": {
        "id": "WpKHii9nk0IH",
        "colab_type": "code",
        "colab": {}
      },
      "source": [
        "model_2 = cnn_2(mod_parameters)"
      ],
      "execution_count": 0,
      "outputs": []
    },
    {
      "cell_type": "code",
      "metadata": {
        "id": "vSYe_-t7lQqi",
        "colab_type": "code",
        "outputId": "bae9816a-4947-4e17-fd6a-6c12d0c54973",
        "colab": {
          "base_uri": "https://localhost:8080/",
          "height": 204
        }
      },
      "source": [
        "#All-CNN output\n",
        "model2_history, model2_weights = build_model(model_2, number_of_epochs)"
      ],
      "execution_count": 0,
      "outputs": [
        {
          "output_type": "stream",
          "text": [
            "Train on 560 samples, validate on 140 samples\n",
            "Epoch 1/5\n",
            "560/560 [==============================] - 331s 591ms/step - loss: 2.3080 - acc: 0.0750 - val_loss: 2.3026 - val_acc: 0.1214\n",
            "Epoch 2/5\n",
            "560/560 [==============================] - 346s 618ms/step - loss: 2.3028 - acc: 0.1071 - val_loss: 2.3021 - val_acc: 0.1214\n",
            "Epoch 3/5\n",
            "560/560 [==============================] - 341s 609ms/step - loss: 2.3024 - acc: 0.1071 - val_loss: 2.3022 - val_acc: 0.1214\n",
            "Epoch 4/5\n",
            "560/560 [==============================] - 345s 616ms/step - loss: 2.3026 - acc: 0.1071 - val_loss: 2.3028 - val_acc: 0.1214\n",
            "Epoch 5/5\n",
            "560/560 [==============================] - 335s 598ms/step - loss: 2.3024 - acc: 0.1071 - val_loss: 2.3024 - val_acc: 0.1214\n"
          ],
          "name": "stdout"
        }
      ]
    },
    {
      "cell_type": "code",
      "metadata": {
        "id": "ATZ3nqLWt-af",
        "colab_type": "code",
        "colab": {}
      },
      "source": [
        "#Third Model - Network In Network CNN\n",
        "\n",
        "def network_cnn(model_input: Tensor) -> training.Model:\n",
        "    \n",
        "    #mlpconv block 1\n",
        "    x = Conv2D(32, (5, 5), activation='relu',padding='valid')(model_input)\n",
        "    x = Conv2D(32, (1, 1), activation='relu')(x)\n",
        "    x = Conv2D(32, (1, 1), activation='relu')(x)\n",
        "    x = MaxPooling2D((2,2))(x)\n",
        "    x = Dropout(0.5)(x)\n",
        "    \n",
        "    #mlpconv block2\n",
        "    x = Conv2D(64, (3, 3), activation='relu',padding='valid')(x)\n",
        "    x = Conv2D(64, (1, 1), activation='relu')(x)\n",
        "    x = Conv2D(64, (1, 1), activation='relu')(x)\n",
        "    x = MaxPooling2D((2,2))(x)\n",
        "    x = Dropout(0.5)(x)\n",
        "    \n",
        "    #mlpconv block3\n",
        "    x = Conv2D(128, (3, 3), activation='relu',padding='valid')(x)\n",
        "    x = Conv2D(32, (1, 1), activation='relu')(x)\n",
        "    x = Conv2D(10, (1, 1))(x)\n",
        "    \n",
        "    x = GlobalAveragePooling2D()(x)\n",
        "    x = Activation(activation='softmax')(x)\n",
        "    \n",
        "    model = Model(model_input, x, name='nin_cnn')\n",
        "    \n",
        "    return model\n",
        "model_3 = network_cnn(mod_parameters)"
      ],
      "execution_count": 0,
      "outputs": []
    },
    {
      "cell_type": "code",
      "metadata": {
        "id": "t2orCIEAk0F6",
        "colab_type": "code",
        "outputId": "4f29ce57-59f7-40d0-c25c-e3e61863b674",
        "colab": {
          "base_uri": "https://localhost:8080/",
          "height": 204
        }
      },
      "source": [
        "#Network In Network CNN output\n",
        "model3_history, model3_weights = build_model(model_3, number_of_epochs)"
      ],
      "execution_count": 0,
      "outputs": [
        {
          "output_type": "stream",
          "text": [
            "Train on 560 samples, validate on 140 samples\n",
            "Epoch 1/5\n",
            "560/560 [==============================] - 33s 59ms/step - loss: 2.3051 - acc: 0.0911 - val_loss: 2.3032 - val_acc: 0.1214\n",
            "Epoch 2/5\n",
            "560/560 [==============================] - 32s 57ms/step - loss: 2.3029 - acc: 0.1000 - val_loss: 2.3026 - val_acc: 0.0857\n",
            "Epoch 3/5\n",
            "560/560 [==============================] - 32s 58ms/step - loss: 2.3027 - acc: 0.1036 - val_loss: 2.3023 - val_acc: 0.1214\n",
            "Epoch 4/5\n",
            "560/560 [==============================] - 32s 57ms/step - loss: 2.3025 - acc: 0.1071 - val_loss: 2.3025 - val_acc: 0.1214\n",
            "Epoch 5/5\n",
            "560/560 [==============================] - 32s 58ms/step - loss: 2.3023 - acc: 0.1071 - val_loss: 2.3027 - val_acc: 0.1214\n"
          ],
          "name": "stdout"
        }
      ]
    },
    {
      "cell_type": "code",
      "metadata": {
        "id": "etpRBP4izt1R",
        "colab_type": "code",
        "colab": {}
      },
      "source": [
        "models = [model1, model_2,model_3]"
      ],
      "execution_count": 0,
      "outputs": []
    },
    {
      "cell_type": "code",
      "metadata": {
        "id": "XNr9LiXwz03c",
        "colab_type": "code",
        "colab": {}
      },
      "source": [
        "#Ensemble model using all the three neural nets\n",
        "def ensemble(models: List [training.Model], model_input: Tensor) -> training.Model:\n",
        "    \n",
        "    outputs = [model.outputs[0] for model in models]\n",
        "    y = Average()(outputs)\n",
        "    \n",
        "    model = Model(model_input, y, name='ensemble')\n",
        "    \n",
        "    return model"
      ],
      "execution_count": 0,
      "outputs": []
    },
    {
      "cell_type": "code",
      "metadata": {
        "id": "vwnjim_zz5jt",
        "colab_type": "code",
        "colab": {}
      },
      "source": [
        "ensemble=ensemble(models,mod_parameters)"
      ],
      "execution_count": 0,
      "outputs": []
    },
    {
      "cell_type": "code",
      "metadata": {
        "id": "Cd8ramCv0URD",
        "colab_type": "code",
        "outputId": "0bbae790-78bc-42e0-d16b-ec32c69f382c",
        "colab": {
          "base_uri": "https://localhost:8080/",
          "height": 34
        }
      },
      "source": [
        "ensemble"
      ],
      "execution_count": 0,
      "outputs": [
        {
          "output_type": "execute_result",
          "data": {
            "text/plain": [
              "<keras.engine.training.Model at 0x7f2c97533550>"
            ]
          },
          "metadata": {
            "tags": []
          },
          "execution_count": 120
        }
      ]
    },
    {
      "cell_type": "code",
      "metadata": {
        "id": "OcMzgE5c2QEk",
        "colab_type": "code",
        "outputId": "440fdfce-49ea-49d7-e810-9ccf3493755e",
        "colab": {
          "base_uri": "https://localhost:8080/",
          "height": 34
        }
      },
      "source": [
        "def evaluate_error(model: training.Model) -> np.float64:\n",
        "    pred = model.predict(X_val_parameters, batch_size = 32)\n",
        "    pred = np.argmax(pred, axis=1)\n",
        "    pred = np.expand_dims(pred, axis=1) # make same shape as y_test\n",
        "    error = np.sum(np.not_equal(pred, y_val_category)) / y_val_category.shape[0]   \n",
        " \n",
        "    return error\n",
        "evaluate_error(model1)"
      ],
      "execution_count": 0,
      "outputs": [
        {
          "output_type": "execute_result",
          "data": {
            "text/plain": [
              "10.0"
            ]
          },
          "metadata": {
            "tags": []
          },
          "execution_count": 123
        }
      ]
    },
    {
      "cell_type": "code",
      "metadata": {
        "id": "CDNQcOoB3QlR",
        "colab_type": "code",
        "outputId": "e21fc541-2770-4b91-b37a-910683c136bd",
        "colab": {
          "base_uri": "https://localhost:8080/",
          "height": 34
        }
      },
      "source": [
        "evaluate_error(model_2)"
      ],
      "execution_count": 0,
      "outputs": [
        {
          "output_type": "execute_result",
          "data": {
            "text/plain": [
              "10.0"
            ]
          },
          "metadata": {
            "tags": []
          },
          "execution_count": 124
        }
      ]
    },
    {
      "cell_type": "code",
      "metadata": {
        "id": "WBK8uvr73fXb",
        "colab_type": "code",
        "outputId": "138a84ef-6540-475f-b533-4339ad1c03a1",
        "colab": {
          "base_uri": "https://localhost:8080/",
          "height": 34
        }
      },
      "source": [
        "evaluate_error(model_3)"
      ],
      "execution_count": 0,
      "outputs": [
        {
          "output_type": "execute_result",
          "data": {
            "text/plain": [
              "10.0"
            ]
          },
          "metadata": {
            "tags": []
          },
          "execution_count": 125
        }
      ]
    },
    {
      "cell_type": "code",
      "metadata": {
        "id": "37NunG4C3l7q",
        "colab_type": "code",
        "outputId": "0f08959f-aea6-4664-eb6a-681c2c99a962",
        "colab": {
          "base_uri": "https://localhost:8080/",
          "height": 34
        }
      },
      "source": [
        "evaluate_error(ensemble)"
      ],
      "execution_count": 0,
      "outputs": [
        {
          "output_type": "execute_result",
          "data": {
            "text/plain": [
              "10.0"
            ]
          },
          "metadata": {
            "tags": []
          },
          "execution_count": 126
        }
      ]
    }
  ]
}