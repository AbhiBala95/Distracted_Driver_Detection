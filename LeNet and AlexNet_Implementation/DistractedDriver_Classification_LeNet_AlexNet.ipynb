{
 "cells": [
  {
   "cell_type": "markdown",
   "metadata": {
    "colab_type": "text",
    "id": "_43g60oEzgIl"
   },
   "source": [
    "**PRIYANKA RAJU**\n",
    "\n",
    "**SJSU ID: 013839865**"
   ]
  },
  {
   "cell_type": "markdown",
   "metadata": {
    "colab_type": "text",
    "id": "GWsqUqgkznfh"
   },
   "source": [
    "**Import split_folders to split the images into train and test data**"
   ]
  },
  {
   "cell_type": "code",
   "execution_count": 0,
   "metadata": {
    "colab": {},
    "colab_type": "code",
    "id": "Xnx4yRXsj23F"
   },
   "outputs": [],
   "source": [
    "# import split_folders\n",
    "# split_folders.ratio('train', output=\"output\", seed=1337, ratio=(.8, .2)) "
   ]
  },
  {
   "cell_type": "code",
   "execution_count": 0,
   "metadata": {
    "colab": {
     "base_uri": "https://localhost:8080/",
     "height": 122
    },
    "colab_type": "code",
    "id": "t-On0F9sj65k",
    "outputId": "db26057e-98d2-4936-c8ff-11edd8600cdd"
   },
   "outputs": [
    {
     "name": "stdout",
     "output_type": "stream",
     "text": [
      "Go to this URL in a browser: https://accounts.google.com/o/oauth2/auth?client_id=947318989803-6bn6qk8qdgf4n4g3pfee6491hc0brc4i.apps.googleusercontent.com&redirect_uri=urn%3aietf%3awg%3aoauth%3a2.0%3aoob&response_type=code&scope=email%20https%3a%2f%2fwww.googleapis.com%2fauth%2fdocs.test%20https%3a%2f%2fwww.googleapis.com%2fauth%2fdrive%20https%3a%2f%2fwww.googleapis.com%2fauth%2fdrive.photos.readonly%20https%3a%2f%2fwww.googleapis.com%2fauth%2fpeopleapi.readonly\n",
      "\n",
      "Enter your authorization code:\n",
      "··········\n",
      "Mounted at /content/drive\n"
     ]
    }
   ],
   "source": [
    "from google.colab import drive\n",
    "drive.mount('/content/drive')"
   ]
  },
  {
   "cell_type": "code",
   "execution_count": 0,
   "metadata": {
    "colab": {
     "base_uri": "https://localhost:8080/",
     "height": 34
    },
    "colab_type": "code",
    "id": "k9tuwQv-j23L",
    "outputId": "cca72af1-4221-4766-fc0c-7e238362cefc"
   },
   "outputs": [
    {
     "name": "stderr",
     "output_type": "stream",
     "text": [
      "Using TensorFlow backend.\n"
     ]
    }
   ],
   "source": [
    "import warnings\n",
    "warnings.filterwarnings(\"ignore\")\n",
    "\n",
    "import matplotlib.pyplot as plt\n",
    "import numpy as np\n",
    "import pandas as pd\n",
    "\n",
    "from keras.layers import Activation\n",
    "from keras.layers import Conv2D\n",
    "from keras.layers import Dense\n",
    "from keras.layers import Flatten\n",
    "from keras.layers import Dropout\n",
    "\n",
    "from keras.layers import MaxPooling2D\n",
    "from keras.losses import categorical_crossentropy\n",
    "from keras.models import Sequential\n",
    "import keras.layers as layers\n",
    "\n",
    "from keras.preprocessing.image import ImageDataGenerator, load_img, img_to_array\n",
    "from sklearn.model_selection import train_test_split\n",
    "\n",
    "from keras.utils.np_utils import to_categorical\n",
    "from sklearn.metrics import classification_report, confusion_matrix\n",
    "import random\n",
    "import seaborn as sns\n",
    "sns.set()"
   ]
  },
  {
   "cell_type": "code",
   "execution_count": 0,
   "metadata": {
    "colab": {},
    "colab_type": "code",
    "id": "-_RkYdlp32K6"
   },
   "outputs": [],
   "source": [
    "! pip install matplotlib==3.1.0"
   ]
  },
  {
   "cell_type": "code",
   "execution_count": 0,
   "metadata": {
    "colab": {},
    "colab_type": "code",
    "id": "i6md0AETj23Q"
   },
   "outputs": [],
   "source": [
    "img_width, img_height = 32, 32"
   ]
  },
  {
   "cell_type": "code",
   "execution_count": 0,
   "metadata": {
    "colab": {},
    "colab_type": "code",
    "id": "nqkD_EmEj23T"
   },
   "outputs": [],
   "source": [
    "train_data_dir = 'drive/My Drive/CMPE-255/output/train'\n",
    "validation_data_dir = 'drive/My Drive/CMPE-255/output/val'\n",
    "test_data_dir = 'drive/My Drive/CMPE-255/output/test'\n",
    "\n",
    "# number of epochs to train model\n",
    "epochs = 50\n",
    "# batch size used by flow_from_directory and predict_generator\n",
    "batch_size = 32"
   ]
  },
  {
   "cell_type": "code",
   "execution_count": 0,
   "metadata": {
    "colab": {},
    "colab_type": "code",
    "id": "yl3PqMdqj23V"
   },
   "outputs": [],
   "source": [
    "train_datagen = ImageDataGenerator(rescale = 1./255,\n",
    "                                   shear_range = 0.2,\n",
    "                                   zoom_range = 0.2,\n",
    "                                   horizontal_flip = True)\n",
    "\n",
    "valid_datagen = ImageDataGenerator(rescale = 1./255,\n",
    "                                   shear_range = 0.2,\n",
    "                                   zoom_range = 0.2,\n",
    "                                   horizontal_flip = True)"
   ]
  },
  {
   "cell_type": "code",
   "execution_count": 0,
   "metadata": {
    "colab": {
     "base_uri": "https://localhost:8080/",
     "height": 85
    },
    "colab_type": "code",
    "id": "Anx6eQ58j23Y",
    "outputId": "dcb48e34-f3b1-4303-88a4-133969a5c82f"
   },
   "outputs": [
    {
     "name": "stdout",
     "output_type": "stream",
     "text": [
      "Found 17943 images belonging to 10 classes.\n",
      "17943\n",
      "{'c0': 0, 'c1': 1, 'c2': 2, 'c3': 3, 'c4': 4, 'c5': 5, 'c6': 6, 'c7': 7, 'c8': 8, 'c9': 9}\n",
      "10\n"
     ]
    }
   ],
   "source": [
    "train_generator = train_datagen.flow_from_directory(\n",
    "    train_data_dir,\n",
    "    target_size=(img_width, img_height),\n",
    "    color_mode=\"rgb\",\n",
    "    batch_size=batch_size,\n",
    "    class_mode=\"categorical\",\n",
    "    shuffle=True,\n",
    "    seed=42\n",
    ")\n",
    "\n",
    "print(len(train_generator.filenames))\n",
    "print(train_generator.class_indices)\n",
    "print(len(train_generator.class_indices))"
   ]
  },
  {
   "cell_type": "code",
   "execution_count": 0,
   "metadata": {
    "colab": {
     "base_uri": "https://localhost:8080/",
     "height": 85
    },
    "colab_type": "code",
    "id": "ebY7TnEjj23b",
    "outputId": "94a08374-3952-4be9-fe17-e7fbe65ac320"
   },
   "outputs": [
    {
     "name": "stdout",
     "output_type": "stream",
     "text": [
      "Found 4490 images belonging to 10 classes.\n",
      "4490\n",
      "{'c0': 0, 'c1': 1, 'c2': 2, 'c3': 3, 'c4': 4, 'c5': 5, 'c6': 6, 'c7': 7, 'c8': 8, 'c9': 9}\n",
      "10\n"
     ]
    }
   ],
   "source": [
    "valid_generator = valid_datagen.flow_from_directory(\n",
    "    validation_data_dir,\n",
    "    target_size=(img_width, img_height),\n",
    "    color_mode=\"rgb\",\n",
    "    batch_size=batch_size,\n",
    "    class_mode=\"categorical\",\n",
    "    shuffle=True,\n",
    "    seed=42\n",
    ")\n",
    "print(len(valid_generator.filenames))\n",
    "print(valid_generator.class_indices)\n",
    "print(len(valid_generator.class_indices))"
   ]
  },
  {
   "cell_type": "code",
   "execution_count": 0,
   "metadata": {
    "colab": {
     "base_uri": "https://localhost:8080/",
     "height": 136
    },
    "colab_type": "code",
    "id": "L0LhgByOQHz9",
    "outputId": "379490f5-5f32-4798-c337-0380982aedf6"
   },
   "outputs": [
    {
     "data": {
      "text/plain": [
       "array([[1., 0., 0., ..., 0., 0., 0.],\n",
       "       [1., 0., 0., ..., 0., 0., 0.],\n",
       "       [1., 0., 0., ..., 0., 0., 0.],\n",
       "       ...,\n",
       "       [0., 0., 0., ..., 0., 0., 1.],\n",
       "       [0., 0., 0., ..., 0., 0., 1.],\n",
       "       [0., 0., 0., ..., 0., 0., 1.]], dtype=float32)"
      ]
     },
     "execution_count": 10,
     "metadata": {
      "tags": []
     },
     "output_type": "execute_result"
    }
   ],
   "source": [
    "train_labels = train_generator.classes\n",
    "num_classes = len(train_generator.class_indices)\n",
    "train_labels = to_categorical(train_labels, num_classes=num_classes)\n",
    "train_labels"
   ]
  },
  {
   "cell_type": "code",
   "execution_count": 0,
   "metadata": {
    "colab": {
     "base_uri": "https://localhost:8080/",
     "height": 136
    },
    "colab_type": "code",
    "id": "_J9JQYuXRDD6",
    "outputId": "0451ce16-e717-4f9f-98cc-91a132858d7d"
   },
   "outputs": [
    {
     "data": {
      "text/plain": [
       "array([[1., 0., 0., ..., 0., 0., 0.],\n",
       "       [1., 0., 0., ..., 0., 0., 0.],\n",
       "       [1., 0., 0., ..., 0., 0., 0.],\n",
       "       ...,\n",
       "       [0., 0., 0., ..., 0., 0., 1.],\n",
       "       [0., 0., 0., ..., 0., 0., 1.],\n",
       "       [0., 0., 0., ..., 0., 0., 1.]], dtype=float32)"
      ]
     },
     "execution_count": 11,
     "metadata": {
      "tags": []
     },
     "output_type": "execute_result"
    }
   ],
   "source": [
    "num_classesV = len(valid_generator.class_indices)\n",
    "validation_labels = valid_generator.classes\n",
    "validation_labels = to_categorical(validation_labels, num_classes=num_classesV)\n",
    "validation_labels"
   ]
  },
  {
   "cell_type": "code",
   "execution_count": 0,
   "metadata": {
    "colab": {},
    "colab_type": "code",
    "id": "d1KrCWx7j23u"
   },
   "outputs": [],
   "source": [
    "warnings.filterwarnings(\"ignore\")\n",
    "model = Sequential()\n",
    "#Layer 1\n",
    "#Conv Layer 1\n",
    "model.add(Conv2D(filters = 6, \n",
    "                 kernel_size = 5, \n",
    "                 strides = 1, \n",
    "                 activation = 'relu', \n",
    "                 input_shape = (32,32,3)))\n",
    "#Pooling layer 1\n",
    "model.add(MaxPooling2D(pool_size = 2, strides = 2))\n",
    "#Layer 2\n",
    "#Conv Layer 2\n",
    "model.add(Conv2D(filters = 16, \n",
    "                 kernel_size = 5,\n",
    "                 strides = 1,\n",
    "                 activation = 'relu',\n",
    "                 input_shape = (14,14,6)))\n",
    "#Pooling Layer 2\n",
    "model.add(MaxPooling2D(pool_size = 2, strides = 2))\n",
    "#Flatten\n",
    "model.add(Flatten())\n",
    "#Layer 3\n",
    "#Fully connected layer 1\n",
    "model.add(Dense(units = 120, activation = 'relu'))\n",
    "#Layer 4\n",
    "#Fully connected layer 2\n",
    "model.add(Dense(units = 84, activation = 'relu'))\n",
    "#Layer 5\n",
    "#Output Layer\n",
    "model.add(Dense(units = 10, activation = 'softmax'))\n",
    "model.compile(optimizer = 'adam', loss = 'categorical_crossentropy', metrics = ['accuracy'])"
   ]
  },
  {
   "cell_type": "code",
   "execution_count": 0,
   "metadata": {
    "colab": {
     "base_uri": "https://localhost:8080/",
     "height": 425
    },
    "colab_type": "code",
    "id": "hAsg--P2j23w",
    "outputId": "be849e9b-fa7f-4423-a01c-a094bac9e4fe"
   },
   "outputs": [
    {
     "name": "stdout",
     "output_type": "stream",
     "text": [
      "Model: \"sequential_2\"\n",
      "_________________________________________________________________\n",
      "Layer (type)                 Output Shape              Param #   \n",
      "=================================================================\n",
      "conv2d_3 (Conv2D)            (None, 28, 28, 6)         456       \n",
      "_________________________________________________________________\n",
      "max_pooling2d_3 (MaxPooling2 (None, 14, 14, 6)         0         \n",
      "_________________________________________________________________\n",
      "conv2d_4 (Conv2D)            (None, 10, 10, 16)        2416      \n",
      "_________________________________________________________________\n",
      "max_pooling2d_4 (MaxPooling2 (None, 5, 5, 16)          0         \n",
      "_________________________________________________________________\n",
      "flatten_2 (Flatten)          (None, 400)               0         \n",
      "_________________________________________________________________\n",
      "dense_4 (Dense)              (None, 120)               48120     \n",
      "_________________________________________________________________\n",
      "dense_5 (Dense)              (None, 84)                10164     \n",
      "_________________________________________________________________\n",
      "dense_6 (Dense)              (None, 10)                850       \n",
      "=================================================================\n",
      "Total params: 62,006\n",
      "Trainable params: 62,006\n",
      "Non-trainable params: 0\n",
      "_________________________________________________________________\n"
     ]
    }
   ],
   "source": [
    "model.summary()"
   ]
  },
  {
   "cell_type": "code",
   "execution_count": 0,
   "metadata": {
    "colab": {},
    "colab_type": "code",
    "id": "0Y-MtZ7PSxbc"
   },
   "outputs": [],
   "source": [
    "STEP_SIZE_TRAIN=train_generator.n//150\n",
    "STEP_SIZE_VALID=valid_generator.n//150\n",
    "train_generator.reset()\n",
    "valid_generator.reset()"
   ]
  },
  {
   "cell_type": "code",
   "execution_count": 0,
   "metadata": {
    "colab": {
     "base_uri": "https://localhost:8080/",
     "height": 394
    },
    "colab_type": "code",
    "id": "I3szqwGnj23y",
    "outputId": "0e8b173f-01e6-4417-9f85-dc1a4314d1ee"
   },
   "outputs": [
    {
     "name": "stdout",
     "output_type": "stream",
     "text": [
      "Epoch 1/10\n",
      "119/119 [==============================] - 1020s 9s/step - loss: 1.9903 - acc: 0.2723 - val_loss: 1.8181 - val_acc: 0.3200\n",
      "Epoch 2/10\n",
      "119/119 [==============================] - 868s 7s/step - loss: 1.6921 - acc: 0.3837 - val_loss: 1.6300 - val_acc: 0.3944\n",
      "Epoch 3/10\n",
      "119/119 [==============================] - 887s 7s/step - loss: 1.4892 - acc: 0.4575 - val_loss: 1.3659 - val_acc: 0.4752\n",
      "Epoch 4/10\n",
      "119/119 [==============================] - 876s 7s/step - loss: 1.3065 - acc: 0.5378 - val_loss: 1.2831 - val_acc: 0.5226\n",
      "Epoch 5/10\n",
      "119/119 [==============================] - 556s 5s/step - loss: 1.1169 - acc: 0.6029 - val_loss: 1.0380 - val_acc: 0.6258\n",
      "Epoch 6/10\n",
      "119/119 [==============================] - 32s 272ms/step - loss: 0.9995 - acc: 0.6518 - val_loss: 0.9637 - val_acc: 0.6692\n",
      "Epoch 7/10\n",
      "119/119 [==============================] - 32s 271ms/step - loss: 0.9437 - acc: 0.6696 - val_loss: 0.9410 - val_acc: 0.6821\n",
      "Epoch 8/10\n",
      "119/119 [==============================] - 32s 272ms/step - loss: 0.8371 - acc: 0.7098 - val_loss: 0.8775 - val_acc: 0.7058\n",
      "Epoch 9/10\n",
      "119/119 [==============================] - 32s 271ms/step - loss: 0.7304 - acc: 0.7518 - val_loss: 0.7704 - val_acc: 0.7457\n",
      "Epoch 10/10\n",
      "119/119 [==============================] - 32s 265ms/step - loss: 0.6746 - acc: 0.7794 - val_loss: 0.6472 - val_acc: 0.7737\n"
     ]
    },
    {
     "data": {
      "text/plain": [
       "<keras.callbacks.History at 0x7f19b81e27b8>"
      ]
     },
     "execution_count": 24,
     "metadata": {
      "tags": []
     },
     "output_type": "execute_result"
    }
   ],
   "source": [
    "warnings.filterwarnings(\"ignore\")\n",
    "model.fit_generator(generator=train_generator,\n",
    "                    steps_per_epoch=STEP_SIZE_TRAIN,\n",
    "                    validation_data=valid_generator,\n",
    "                    validation_steps=STEP_SIZE_VALID,\n",
    "                    epochs=10\n",
    ")"
   ]
  },
  {
   "cell_type": "code",
   "execution_count": 0,
   "metadata": {
    "colab": {},
    "colab_type": "code",
    "id": "RokgKvTKH2Xp"
   },
   "outputs": [],
   "source": [
    "loss,acc = model.evaluate_generator(generator=valid_generator)"
   ]
  },
  {
   "cell_type": "code",
   "execution_count": 0,
   "metadata": {
    "colab": {
     "base_uri": "https://localhost:8080/",
     "height": 697
    },
    "colab_type": "code",
    "id": "Hs4CB1ZNehNX",
    "outputId": "4558752d-b3e1-4089-f359-45fc7078892d"
   },
   "outputs": [
    {
     "data": {
      "text/plain": [
       "{'acc': [0.27232142857142855,\n",
       "  0.38366596638655465,\n",
       "  0.457752040049753,\n",
       "  0.5378151260504201,\n",
       "  0.6029411764705882,\n",
       "  0.6517857142857143,\n",
       "  0.6696428571428571,\n",
       "  0.7098214285714286,\n",
       "  0.7520400106702927,\n",
       "  0.7794117647058824],\n",
       " 'loss': [1.990269892355975,\n",
       "  1.6920562171134628,\n",
       "  1.4884377498317938,\n",
       "  1.3065046898457182,\n",
       "  1.116914350445531,\n",
       "  0.9995063312915193,\n",
       "  0.9437336207938796,\n",
       "  0.8371137693649581,\n",
       "  0.7294109546689492,\n",
       "  0.6745774355255255],\n",
       " 'val_acc': [0.32004310344827586,\n",
       "  0.39439655172413796,\n",
       "  0.47521551724137934,\n",
       "  0.5226293103448276,\n",
       "  0.6258278145695364,\n",
       "  0.6691810344827587,\n",
       "  0.6821120689655172,\n",
       "  0.7058189655172413,\n",
       "  0.7456896551724138,\n",
       "  0.7737306843267108],\n",
       " 'val_loss': [1.8181359562380561,\n",
       "  1.629986364265968,\n",
       "  1.3658760498309959,\n",
       "  1.2831423035983383,\n",
       "  1.0380279245492374,\n",
       "  0.9636694984189396,\n",
       "  0.9409650091467232,\n",
       "  0.8774580976058697,\n",
       "  0.7704148323371492,\n",
       "  0.6472249121197539]}"
      ]
     },
     "execution_count": 32,
     "metadata": {
      "tags": []
     },
     "output_type": "execute_result"
    }
   ],
   "source": [
    "model.history.history"
   ]
  },
  {
   "cell_type": "code",
   "execution_count": 0,
   "metadata": {
    "colab": {
     "base_uri": "https://localhost:8080/",
     "height": 375
    },
    "colab_type": "code",
    "id": "E7KPZesMF8Iy",
    "outputId": "a055bf68-22d3-477a-faa6-887dc20e2ab6"
   },
   "outputs": [
    {
     "data": {
      "image/png": "[encoded data removed]",
      "text/plain": [
       "<Figure size 1080x360 with 2 Axes>"
      ]
     },
     "metadata": {
      "tags": []
     },
     "output_type": "display_data"
    }
   ],
   "source": [
    "fig, axs = plt.subplots(1,2,figsize=(15,5))\n",
    "# summarize history for accuracy\n",
    "axs[0].plot(range(1,len(model.history.history['acc'])+1),model.history.history['acc'])\n",
    "axs[0].plot(range(1,len(model.history.history['val_acc'])+1),model.history.history['val_acc'])\n",
    "axs[0].set_title('Model Accuracy')\n",
    "axs[0].set_ylabel('Accuracy')\n",
    "axs[0].set_xlabel('Epoch')\n",
    "axs[0].set_xticks(np.arange(1,len(model.history.history['acc'])+1),len(model.history.history['acc'])/10)\n",
    "axs[0].legend(['train', 'val'], loc='best')\n",
    "# summarize history for loss\n",
    "axs[1].plot(range(1,len(model.history.history['loss'])+1),model.history.history['loss'])\n",
    "axs[1].plot(range(1,len(model.history.history['val_loss'])+1),model.history.history['val_loss'])\n",
    "axs[1].set_title('Model Loss')\n",
    "axs[1].set_ylabel('Loss')\n",
    "axs[1].set_xlabel('Epoch')\n",
    "axs[1].set_xticks(np.arange(1,len(model.history.history['loss'])+1),len(model.history.history['loss'])/10)\n",
    "axs[1].legend(['train', 'val'], loc='best')\n",
    "plt.show()"
   ]
  },
  {
   "cell_type": "code",
   "execution_count": 0,
   "metadata": {
    "colab": {
     "base_uri": "https://localhost:8080/",
     "height": 34
    },
    "colab_type": "code",
    "id": "L9T_r6nGj230",
    "outputId": "07bc5121-d716-47c3-ad45-3111ba60c3e8"
   },
   "outputs": [
    {
     "data": {
      "text/plain": [
       "4490"
      ]
     },
     "execution_count": 29,
     "metadata": {
      "tags": []
     },
     "output_type": "execute_result"
    }
   ],
   "source": [
    "#Confution Matrix and Classification Report\n",
    "Y_pred = model.predict_generator(valid_generator)\n",
    "y_pred = np.argmax(Y_pred, axis=1)\n",
    "len(y_pred)"
   ]
  },
  {
   "cell_type": "code",
   "execution_count": 0,
   "metadata": {
    "colab": {
     "base_uri": "https://localhost:8080/",
     "height": 510
    },
    "colab_type": "code",
    "id": "zjOdFEXk45iv",
    "outputId": "ae375759-5f4b-4575-c8c8-03aa8d4d8092"
   },
   "outputs": [
    {
     "name": "stdout",
     "output_type": "stream",
     "text": [
      "Confusion Matrix\n",
      "[[59 73 44 48 37 39 39 53 48 58]\n",
      " [48 55 45 52 45 37 35 47 31 59]\n",
      " [56 47 57 46 49 45 46 37 36 45]\n",
      " [62 48 51 43 41 56 55 43 33 38]\n",
      " [60 52 46 50 45 39 44 43 26 61]\n",
      " [61 59 55 41 29 59 44 47 26 42]\n",
      " [46 50 61 52 40 49 43 52 29 43]\n",
      " [51 50 49 37 36 38 30 50 31 29]\n",
      " [56 45 31 35 29 42 29 39 40 37]\n",
      " [56 51 39 36 39 41 42 46 35 41]]\n",
      "Classification Report\n",
      "              precision    recall  f1-score   support\n",
      "\n",
      "          c0       0.11      0.12      0.11       498\n",
      "          c1       0.10      0.12      0.11       454\n",
      "          c2       0.12      0.12      0.12       464\n",
      "          c3       0.10      0.09      0.09       470\n",
      "          c4       0.12      0.10      0.11       466\n",
      "          c5       0.13      0.13      0.13       463\n",
      "          c6       0.11      0.09      0.10       465\n",
      "          c7       0.11      0.12      0.12       401\n",
      "          c8       0.12      0.10      0.11       383\n",
      "          c9       0.09      0.10      0.09       426\n",
      "\n",
      "    accuracy                           0.11      4490\n",
      "   macro avg       0.11      0.11      0.11      4490\n",
      "weighted avg       0.11      0.11      0.11      4490\n",
      "\n"
     ]
    }
   ],
   "source": [
    "print('Confusion Matrix')\n",
    "print(confusion_matrix(valid_generator.classes, y_pred))\n",
    "print('Classification Report')\n",
    "target_names = ['c0', 'c1', 'c2', 'c3', 'c4', 'c5', 'c6', 'c7', 'c8', 'c9']\n",
    "print(classification_report(valid_generator.classes, y_pred, target_names=target_names))"
   ]
  },
  {
   "cell_type": "code",
   "execution_count": 0,
   "metadata": {
    "colab": {
     "base_uri": "https://localhost:8080/",
     "height": 318
    },
    "colab_type": "code",
    "id": "jw3RgSXmmjzV",
    "outputId": "d0bd6043-7d94-4334-fab5-f2dd290a0ffb"
   },
   "outputs": [
    {
     "data": {
      "image/png": "[encoded data removed]",
      "text/plain": [
       "<Figure size 432x288 with 2 Axes>"
      ]
     },
     "metadata": {
      "tags": []
     },
     "output_type": "display_data"
    },
    {
     "data": {
      "text/plain": [
       "<Figure size 504x504 with 0 Axes>"
      ]
     },
     "metadata": {
      "tags": []
     },
     "output_type": "display_data"
    }
   ],
   "source": [
    "ax= plt.subplot()\n",
    "df_cm = pd.DataFrame(\n",
    "        confusion_matrix(valid_generator.classes, y_pred), index=target_names, columns=target_names\n",
    ")\n",
    "plt.figure(figsize = (7,7))\n",
    "sns.heatmap(df_cm, annot=True, ax = ax,fmt='d'); #annot=True to annotate cells\n",
    "\n",
    "# labels, title and ticks\n",
    "ax.set_xlabel('Predicted labels');ax.set_ylabel('True labels'); \n",
    "ax.set_title('Confusion Matrix'); \n",
    "ax.xaxis.set_ticklabels(target_names); ax.yaxis.set_ticklabels(target_names);\n"
   ]
  },
  {
   "cell_type": "markdown",
   "metadata": {
    "colab_type": "text",
    "id": "NgatfcOky2HP"
   },
   "source": [
    "**Building AlexNet Model**"
   ]
  },
  {
   "cell_type": "code",
   "execution_count": 0,
   "metadata": {
    "colab": {},
    "colab_type": "code",
    "id": "B3xchHpW0kYZ"
   },
   "outputs": [],
   "source": [
    "img_widthAN, img_heightAN = 224, 224\n",
    "train_datagenAN = ImageDataGenerator(rescale = 1./255,\n",
    "                                   shear_range = 0.2,\n",
    "                                   zoom_range = 0.2,\n",
    "                                   horizontal_flip = True)\n",
    "\n",
    "valid_datagenAN = ImageDataGenerator(rescale = 1./255,\n",
    "                                   shear_range = 0.2,\n",
    "                                   zoom_range = 0.2,\n",
    "                                   horizontal_flip = True)"
   ]
  },
  {
   "cell_type": "code",
   "execution_count": 0,
   "metadata": {
    "colab": {
     "base_uri": "https://localhost:8080/",
     "height": 85
    },
    "colab_type": "code",
    "id": "kphzV0vy0kYe",
    "outputId": "752095b3-ac44-449f-ea66-cd99d3a0c310"
   },
   "outputs": [
    {
     "name": "stdout",
     "output_type": "stream",
     "text": [
      "Found 17943 images belonging to 10 classes.\n",
      "17943\n",
      "{'c0': 0, 'c1': 1, 'c2': 2, 'c3': 3, 'c4': 4, 'c5': 5, 'c6': 6, 'c7': 7, 'c8': 8, 'c9': 9}\n",
      "10\n"
     ]
    }
   ],
   "source": [
    "train_generatorAN = train_datagenAN.flow_from_directory(\n",
    "    train_data_dir,\n",
    "    target_size=(img_widthAN, img_heightAN),\n",
    "    color_mode=\"rgb\",\n",
    "    batch_size=batch_size,\n",
    "    class_mode=\"categorical\",\n",
    "    shuffle=True,\n",
    "    seed=42\n",
    ")\n",
    "\n",
    "print(len(train_generatorAN.filenames))\n",
    "print(train_generatorAN.class_indices)\n",
    "print(len(train_generatorAN.class_indices))"
   ]
  },
  {
   "cell_type": "code",
   "execution_count": 0,
   "metadata": {
    "colab": {
     "base_uri": "https://localhost:8080/",
     "height": 85
    },
    "colab_type": "code",
    "id": "wDV6z3Pj0kYg",
    "outputId": "c850222b-71e2-44bd-9a41-a318c5d638c3"
   },
   "outputs": [
    {
     "name": "stdout",
     "output_type": "stream",
     "text": [
      "Found 4490 images belonging to 10 classes.\n",
      "4490\n",
      "{'c0': 0, 'c1': 1, 'c2': 2, 'c3': 3, 'c4': 4, 'c5': 5, 'c6': 6, 'c7': 7, 'c8': 8, 'c9': 9}\n",
      "10\n"
     ]
    }
   ],
   "source": [
    "valid_generatorAN = valid_datagenAN.flow_from_directory(\n",
    "    validation_data_dir,\n",
    "    target_size=(img_widthAN, img_heightAN),\n",
    "    color_mode=\"rgb\",\n",
    "    batch_size=batch_size,\n",
    "    class_mode=\"categorical\",\n",
    "    shuffle=True,\n",
    "    seed=42\n",
    ")\n",
    "print(len(valid_generatorAN.filenames))\n",
    "print(valid_generatorAN.class_indices)\n",
    "print(len(valid_generatorAN.class_indices))"
   ]
  },
  {
   "cell_type": "code",
   "execution_count": 0,
   "metadata": {
    "colab": {},
    "colab_type": "code",
    "id": "4kwQQxHVdywV"
   },
   "outputs": [],
   "source": [
    "from keras.layers.normalization import BatchNormalization\n",
    "# (3) Create a sequential model\n",
    "modelAN = Sequential()\n",
    "\n",
    "# 1st Convolutional Layer\n",
    "modelAN.add(Conv2D(filters=96, input_shape=(224,224,3), kernel_size=(11,11),strides=(4,4), padding='valid'))\n",
    "modelAN.add(Activation('relu'))\n",
    "# Pooling \n",
    "modelAN.add(MaxPooling2D(pool_size=(2,2), strides=(2,2), padding='valid'))\n",
    "# Batch Normalisation before passing it to the next layer\n",
    "modelAN.add(BatchNormalization())\n",
    "\n",
    "# 2nd Convolutional Layer\n",
    "modelAN.add(Conv2D(filters=256, kernel_size=(11,11), strides=(1,1), padding='valid'))\n",
    "modelAN.add(Activation('relu'))\n",
    "# Pooling\n",
    "modelAN.add(MaxPooling2D(pool_size=(2,2), strides=(2,2), padding='valid'))\n",
    "# Batch Normalisation\n",
    "modelAN.add(BatchNormalization())\n",
    "\n",
    "# 3rd Convolutional Layer\n",
    "modelAN.add(Conv2D(filters=384, kernel_size=(3,3), strides=(1,1), padding='valid'))\n",
    "modelAN.add(Activation('relu'))\n",
    "# Batch Normalisation\n",
    "modelAN.add(BatchNormalization())\n",
    "\n",
    "# 4th Convolutional Layer\n",
    "modelAN.add(Conv2D(filters=384, kernel_size=(3,3), strides=(1,1), padding='valid'))\n",
    "modelAN.add(Activation('relu'))\n",
    "# Batch Normalisation\n",
    "modelAN.add(BatchNormalization())\n",
    "\n",
    "# 5th Convolutional Layer\n",
    "modelAN.add(Conv2D(filters=256, kernel_size=(3,3), strides=(1,1), padding='valid'))\n",
    "modelAN.add(Activation('relu'))\n",
    "# Pooling\n",
    "modelAN.add(MaxPooling2D(pool_size=(2,2), strides=(2,2), padding='valid'))\n",
    "# Batch Normalisation\n",
    "modelAN.add(BatchNormalization())\n",
    "\n",
    "# Passing it to a dense layer\n",
    "modelAN.add(Flatten())\n",
    "# 1st Dense Layer\n",
    "modelAN.add(Dense(4096, input_shape=(224*224*3,)))\n",
    "modelAN.add(Activation('relu'))\n",
    "# Add Dropout to prevent overfitting\n",
    "modelAN.add(Dropout(0.4))\n",
    "# Batch Normalisation\n",
    "modelAN.add(BatchNormalization())\n",
    "\n",
    "# 2nd Dense Layer\n",
    "modelAN.add(Dense(4096))\n",
    "modelAN.add(Activation('relu'))\n",
    "# Add Dropout\n",
    "modelAN.add(Dropout(0.4))\n",
    "# Batch Normalisation\n",
    "modelAN.add(BatchNormalization())\n",
    "\n",
    "# 3rd Dense Layer\n",
    "modelAN.add(Dense(1000))\n",
    "modelAN.add(Activation('relu'))\n",
    "# Add Dropout\n",
    "modelAN.add(Dropout(0.4))\n",
    "# Batch Normalisation\n",
    "modelAN.add(BatchNormalization())\n",
    "\n",
    "# Output Layer\n",
    "modelAN.add(Dense(10))\n",
    "modelAN.add(Activation('softmax'))\n",
    "\n",
    "# modelAN.summary()\n",
    "\n",
    "# Compile the model\n",
    "modelAN.compile(loss='categorical_crossentropy', optimizer='adam', metrics=['accuracy'])"
   ]
  },
  {
   "cell_type": "code",
   "execution_count": 0,
   "metadata": {
    "colab": {
     "base_uri": "https://localhost:8080/",
     "height": 1000
    },
    "colab_type": "code",
    "id": "gG46ZmDg2SmY",
    "outputId": "33416e1f-9172-4a51-e3f0-b6a90b11acc0"
   },
   "outputs": [
    {
     "name": "stdout",
     "output_type": "stream",
     "text": [
      "Model: \"sequential_21\"\n",
      "_________________________________________________________________\n",
      "Layer (type)                 Output Shape              Param #   \n",
      "=================================================================\n",
      "conv2d_89 (Conv2D)           (None, 54, 54, 96)        34944     \n",
      "_________________________________________________________________\n",
      "activation_144 (Activation)  (None, 54, 54, 96)        0         \n",
      "_________________________________________________________________\n",
      "max_pooling2d_56 (MaxPooling (None, 27, 27, 96)        0         \n",
      "_________________________________________________________________\n",
      "batch_normalization_1 (Batch (None, 27, 27, 96)        384       \n",
      "_________________________________________________________________\n",
      "conv2d_90 (Conv2D)           (None, 17, 17, 256)       2973952   \n",
      "_________________________________________________________________\n",
      "activation_145 (Activation)  (None, 17, 17, 256)       0         \n",
      "_________________________________________________________________\n",
      "max_pooling2d_57 (MaxPooling (None, 8, 8, 256)         0         \n",
      "_________________________________________________________________\n",
      "batch_normalization_2 (Batch (None, 8, 8, 256)         1024      \n",
      "_________________________________________________________________\n",
      "conv2d_91 (Conv2D)           (None, 6, 6, 384)         885120    \n",
      "_________________________________________________________________\n",
      "activation_146 (Activation)  (None, 6, 6, 384)         0         \n",
      "_________________________________________________________________\n",
      "batch_normalization_3 (Batch (None, 6, 6, 384)         1536      \n",
      "_________________________________________________________________\n",
      "conv2d_92 (Conv2D)           (None, 4, 4, 384)         1327488   \n",
      "_________________________________________________________________\n",
      "activation_147 (Activation)  (None, 4, 4, 384)         0         \n",
      "_________________________________________________________________\n",
      "batch_normalization_4 (Batch (None, 4, 4, 384)         1536      \n",
      "_________________________________________________________________\n",
      "conv2d_93 (Conv2D)           (None, 2, 2, 256)         884992    \n",
      "_________________________________________________________________\n",
      "activation_148 (Activation)  (None, 2, 2, 256)         0         \n",
      "_________________________________________________________________\n",
      "max_pooling2d_58 (MaxPooling (None, 1, 1, 256)         0         \n",
      "_________________________________________________________________\n",
      "batch_normalization_5 (Batch (None, 1, 1, 256)         1024      \n",
      "_________________________________________________________________\n",
      "flatten_19 (Flatten)         (None, 256)               0         \n",
      "_________________________________________________________________\n",
      "dense_68 (Dense)             (None, 4096)              1052672   \n",
      "_________________________________________________________________\n",
      "activation_149 (Activation)  (None, 4096)              0         \n",
      "_________________________________________________________________\n",
      "dropout_43 (Dropout)         (None, 4096)              0         \n",
      "_________________________________________________________________\n",
      "batch_normalization_6 (Batch (None, 4096)              16384     \n",
      "_________________________________________________________________\n",
      "dense_69 (Dense)             (None, 4096)              16781312  \n",
      "_________________________________________________________________\n",
      "activation_150 (Activation)  (None, 4096)              0         \n",
      "_________________________________________________________________\n",
      "dropout_44 (Dropout)         (None, 4096)              0         \n",
      "_________________________________________________________________\n",
      "batch_normalization_7 (Batch (None, 4096)              16384     \n",
      "_________________________________________________________________\n",
      "dense_70 (Dense)             (None, 1000)              4097000   \n",
      "_________________________________________________________________\n",
      "activation_151 (Activation)  (None, 1000)              0         \n",
      "_________________________________________________________________\n",
      "dropout_45 (Dropout)         (None, 1000)              0         \n",
      "_________________________________________________________________\n",
      "batch_normalization_8 (Batch (None, 1000)              4000      \n",
      "_________________________________________________________________\n",
      "dense_71 (Dense)             (None, 10)                10010     \n",
      "_________________________________________________________________\n",
      "activation_152 (Activation)  (None, 10)                0         \n",
      "=================================================================\n",
      "Total params: 28,089,762\n",
      "Trainable params: 28,068,626\n",
      "Non-trainable params: 21,136\n",
      "_________________________________________________________________\n"
     ]
    }
   ],
   "source": [
    "modelAN.summary()"
   ]
  },
  {
   "cell_type": "code",
   "execution_count": 0,
   "metadata": {
    "colab": {},
    "colab_type": "code",
    "id": "RK8LaxBR2ah2"
   },
   "outputs": [],
   "source": [
    "STEP_SIZE_TRAIN=train_generatorAN.n//128\n",
    "STEP_SIZE_VALID=valid_generatorAN.n//128\n",
    "train_generatorAN.reset()\n",
    "valid_generatorAN.reset()"
   ]
  },
  {
   "cell_type": "code",
   "execution_count": 0,
   "metadata": {
    "colab": {
     "base_uri": "https://localhost:8080/",
     "height": 394
    },
    "colab_type": "code",
    "id": "4M_MFbBL2hcH",
    "outputId": "2212205a-e4b4-4a86-81ab-d0031856599b"
   },
   "outputs": [
    {
     "name": "stdout",
     "output_type": "stream",
     "text": [
      "Epoch 1/10\n",
      "140/140 [==============================] - 805s 6s/step - loss: 2.7555 - acc: 0.1915 - val_loss: 2.2450 - val_acc: 0.2866\n",
      "Epoch 2/10\n",
      "140/140 [==============================] - 794s 6s/step - loss: 2.0792 - acc: 0.3114 - val_loss: 2.4720 - val_acc: 0.2830\n",
      "Epoch 3/10\n",
      "140/140 [==============================] - 793s 6s/step - loss: 1.6490 - acc: 0.4480 - val_loss: 1.3536 - val_acc: 0.5554\n",
      "Epoch 4/10\n",
      "140/140 [==============================] - 783s 6s/step - loss: 1.2436 - acc: 0.5783 - val_loss: 1.0932 - val_acc: 0.6589\n",
      "Epoch 5/10\n",
      "140/140 [==============================] - 796s 6s/step - loss: 1.0013 - acc: 0.6641 - val_loss: 0.8250 - val_acc: 0.7386\n",
      "Epoch 6/10\n",
      "140/140 [==============================] - 791s 6s/step - loss: 0.7935 - acc: 0.7362 - val_loss: 1.1727 - val_acc: 0.6982\n",
      "Epoch 7/10\n",
      "140/140 [==============================] - 792s 6s/step - loss: 0.7002 - acc: 0.7720 - val_loss: 0.6788 - val_acc: 0.7804\n",
      "Epoch 8/10\n",
      "140/140 [==============================] - 792s 6s/step - loss: 0.6071 - acc: 0.8074 - val_loss: 0.6814 - val_acc: 0.7893\n",
      "Epoch 9/10\n",
      "140/140 [==============================] - 788s 6s/step - loss: 0.5115 - acc: 0.8288 - val_loss: 0.5633 - val_acc: 0.8215\n",
      "Epoch 10/10\n",
      "140/140 [==============================] - 792s 6s/step - loss: 0.4809 - acc: 0.8442 - val_loss: 0.4095 - val_acc: 0.8616\n"
     ]
    },
    {
     "data": {
      "text/plain": [
       "<keras.callbacks.History at 0x7f19acd9eeb8>"
      ]
     },
     "execution_count": 103,
     "metadata": {
      "tags": []
     },
     "output_type": "execute_result"
    }
   ],
   "source": [
    "warnings.filterwarnings(\"ignore\")\n",
    "modelAN.fit_generator(generator=train_generatorAN,\n",
    "                    steps_per_epoch=STEP_SIZE_TRAIN,\n",
    "                    validation_data=valid_generatorAN,\n",
    "                    validation_steps=STEP_SIZE_VALID,\n",
    "                    epochs=10\n",
    ")"
   ]
  },
  {
   "cell_type": "code",
   "execution_count": 0,
   "metadata": {
    "colab": {},
    "colab_type": "code",
    "id": "JcqVsHJF2qcL"
   },
   "outputs": [],
   "source": [
    "#Get the loss and accuracy parameters\n",
    "lossAN,accAN = modelAN.evaluate_generator(generator=valid_generatorAN)"
   ]
  },
  {
   "cell_type": "code",
   "execution_count": 0,
   "metadata": {
    "colab": {
     "base_uri": "https://localhost:8080/",
     "height": 697
    },
    "colab_type": "code",
    "id": "hmHMlLIl2vov",
    "outputId": "98c651ba-992f-4e5d-d921-477a5f09b572"
   },
   "outputs": [
    {
     "data": {
      "text/plain": [
       "{'acc': [0.19151785714285716,\n",
       "  0.31138392857142855,\n",
       "  0.4479910714285714,\n",
       "  0.5783940952540351,\n",
       "  0.6640625,\n",
       "  0.7361607142857143,\n",
       "  0.7723104449572699,\n",
       "  0.8073660714285714,\n",
       "  0.8287946428571429,\n",
       "  0.8441964285714286],\n",
       " 'loss': [2.7554521552153997,\n",
       "  2.0792311898299625,\n",
       "  1.6490256343569074,\n",
       "  1.243390949906665,\n",
       "  1.001285863987037,\n",
       "  0.7934957983238357,\n",
       "  0.6996886838178351,\n",
       "  0.6071281909942627,\n",
       "  0.511530928420169,\n",
       "  0.4808930201189859],\n",
       " 'val_acc': [0.28660714285714284,\n",
       "  0.2830357142857143,\n",
       "  0.5553571428571429,\n",
       "  0.6589285714285714,\n",
       "  0.7386156649537425,\n",
       "  0.6982142857142857,\n",
       "  0.7803571428571429,\n",
       "  0.7892857142857143,\n",
       "  0.8214936248808827,\n",
       "  0.8616071428571429],\n",
       " 'val_loss': [2.2449746813092912,\n",
       "  2.472032015664237,\n",
       "  1.3536327259881156,\n",
       "  1.0932012677192688,\n",
       "  0.8250344316381791,\n",
       "  1.1727447833333697,\n",
       "  0.6787710070610047,\n",
       "  0.6813843207699912,\n",
       "  0.5633232156001371,\n",
       "  0.4094880052975246]}"
      ]
     },
     "execution_count": 105,
     "metadata": {
      "tags": []
     },
     "output_type": "execute_result"
    }
   ],
   "source": [
    "modelAN.history.history"
   ]
  },
  {
   "cell_type": "code",
   "execution_count": 0,
   "metadata": {
    "colab": {
     "base_uri": "https://localhost:8080/",
     "height": 375
    },
    "colab_type": "code",
    "id": "ihlXDYueSkP9",
    "outputId": "28d93478-dc1b-49f4-a7d1-e801cefc206a"
   },
   "outputs": [
    {
     "data": {
      "image/png": "[encoded data removed]",
      "text/plain": [
       "<Figure size 1080x360 with 2 Axes>"
      ]
     },
     "metadata": {
      "tags": []
     },
     "output_type": "display_data"
    }
   ],
   "source": [
    "fig, axs = plt.subplots(1,2,figsize=(15,5))\n",
    "# summarize history for accuracy\n",
    "axs[0].plot(range(1,len(modelAN.history.history['acc'])+1),modelAN.history.history['acc'])\n",
    "axs[0].plot(range(1,len(modelAN.history.history['val_acc'])+1),modelAN.history.history['val_acc'])\n",
    "axs[0].set_title('Model Accuracy')\n",
    "axs[0].set_ylabel('Accuracy')\n",
    "axs[0].set_xlabel('Epoch')\n",
    "axs[0].set_xticks(np.arange(1,len(modelAN.history.history['acc'])+1),len(modelAN.history.history['acc'])/10)\n",
    "axs[0].legend(['train', 'val'], loc='best')\n",
    "# summarize history for loss\n",
    "axs[1].plot(range(1,len(modelAN.history.history['loss'])+1),modelAN.history.history['loss'])\n",
    "axs[1].plot(range(1,len(modelAN.history.history['val_loss'])+1),modelAN.history.history['val_loss'])\n",
    "axs[1].set_title('Model Loss')\n",
    "axs[1].set_ylabel('Loss')\n",
    "axs[1].set_xlabel('Epoch')\n",
    "axs[1].set_xticks(np.arange(1,len(modelAN.history.history['loss'])+1),len(modelAN.history.history['loss'])/10)\n",
    "axs[1].legend(['train', 'val'], loc='best')\n",
    "plt.show()"
   ]
  },
  {
   "cell_type": "code",
   "execution_count": 0,
   "metadata": {
    "colab": {
     "base_uri": "https://localhost:8080/",
     "height": 34
    },
    "colab_type": "code",
    "id": "Ef7xYFoZ26V2",
    "outputId": "b3584b78-3238-4e5d-f823-b3f7befe06c4"
   },
   "outputs": [
    {
     "data": {
      "text/plain": [
       "4490"
      ]
     },
     "execution_count": 107,
     "metadata": {
      "tags": []
     },
     "output_type": "execute_result"
    }
   ],
   "source": [
    "#Predict the class\n",
    "Y_predAN = modelAN.predict_generator(valid_generatorAN)\n",
    "y_predAN = np.argmax(Y_predAN, axis=1)\n",
    "len(y_predAN)"
   ]
  },
  {
   "cell_type": "code",
   "execution_count": 0,
   "metadata": {
    "colab": {
     "base_uri": "https://localhost:8080/",
     "height": 510
    },
    "colab_type": "code",
    "id": "J1KMjjj226WK",
    "outputId": "2da3d389-ba03-490e-dd82-88a55bb2af6c"
   },
   "outputs": [
    {
     "name": "stdout",
     "output_type": "stream",
     "text": [
      "Confusion Matrix\n",
      "[[88 49 67 43 48 49 53 43 22 36]\n",
      " [51 50 55 42 50 48 52 37 21 48]\n",
      " [65 39 55 35 57 50 56 46 19 42]\n",
      " [76 40 73 37 41 43 55 39 27 39]\n",
      " [73 30 73 35 51 53 50 53 18 30]\n",
      " [68 41 56 42 46 41 45 28 39 57]\n",
      " [73 61 53 43 56 48 32 27 30 42]\n",
      " [68 39 61 28 42 42 42 29 13 37]\n",
      " [60 44 45 30 28 40 53 27 20 36]\n",
      " [58 43 54 37 47 32 53 33 32 37]]\n",
      "Classification Report\n",
      "              precision    recall  f1-score   support\n",
      "\n",
      "          c0       0.13      0.18      0.15       498\n",
      "          c1       0.11      0.11      0.11       454\n",
      "          c2       0.09      0.12      0.10       464\n",
      "          c3       0.10      0.08      0.09       470\n",
      "          c4       0.11      0.11      0.11       466\n",
      "          c5       0.09      0.09      0.09       463\n",
      "          c6       0.07      0.07      0.07       465\n",
      "          c7       0.08      0.07      0.08       401\n",
      "          c8       0.08      0.05      0.06       383\n",
      "          c9       0.09      0.09      0.09       426\n",
      "\n",
      "    accuracy                           0.10      4490\n",
      "   macro avg       0.10      0.10      0.09      4490\n",
      "weighted avg       0.10      0.10      0.10      4490\n",
      "\n"
     ]
    }
   ],
   "source": [
    "print('Confusion Matrix')\n",
    "print(confusion_matrix(valid_generatorAN.classes, y_predAN))\n",
    "print('Classification Report')\n",
    "target_names = ['c0', 'c1', 'c2', 'c3', 'c4', 'c5', 'c6', 'c7', 'c8', 'c9']\n",
    "print(classification_report(valid_generatorAN.classes, y_predAN, target_names=target_names))"
   ]
  },
  {
   "cell_type": "code",
   "execution_count": 0,
   "metadata": {
    "colab": {
     "base_uri": "https://localhost:8080/",
     "height": 318
    },
    "colab_type": "code",
    "id": "7PASIudq26WM",
    "outputId": "8506cb30-25e2-4575-dd93-7ff414775678"
   },
   "outputs": [
    {
     "data": {
      "image/png": "[encoded data removed]",
      "text/plain": [
       "<Figure size 432x288 with 2 Axes>"
      ]
     },
     "metadata": {
      "tags": []
     },
     "output_type": "display_data"
    },
    {
     "data": {
      "text/plain": [
       "<Figure size 504x504 with 0 Axes>"
      ]
     },
     "metadata": {
      "tags": []
     },
     "output_type": "display_data"
    }
   ],
   "source": [
    "ax= plt.subplot()\n",
    "df_cm = pd.DataFrame(\n",
    "        confusion_matrix(valid_generatorAN.classes, y_predAN), index=target_names, columns=target_names\n",
    ")\n",
    "plt.figure(figsize = (7,7))\n",
    "sns.heatmap(df_cm, annot=True, ax = ax,fmt='d');\n",
    "\n",
    "# labels, title and ticks\n",
    "ax.set_xlabel('Predicted labels');ax.set_ylabel('True labels'); \n",
    "ax.set_title('Confusion Matrix'); \n",
    "ax.xaxis.set_ticklabels(target_names); ax.yaxis.set_ticklabels(target_names);\n"
   ]
  },
  {
   "cell_type": "markdown",
   "metadata": {
    "colab_type": "text",
    "id": "YfP5ABzHXiD5"
   },
   "source": [
    "**References**\n",
    "\n",
    "https://colab.research.google.com/drive/1CVm50PGE4vhtB5I_a_yc4h5F-itKOVL9\n",
    "\n",
    "https://medium.com/@mgazar/lenet-5-in-9-lines-of-code-using-keras-ac99294c8086\n",
    "\n",
    "https://keras.io/preprocessing/image/"
   ]
  }
 ],
 "metadata": {
  "accelerator": "TPU",
  "colab": {
   "collapsed_sections": [],
   "name": "Distracted_Driver_LeNet_And_AlexNet.ipynb",
   "provenance": []
  },
  "kernelspec": {
   "display_name": "Python 3",
   "language": "python",
   "name": "python3"
  },
  "language_info": {
   "codemirror_mode": {
    "name": "ipython",
    "version": 3
   },
   "file_extension": ".py",
   "mimetype": "text/x-python",
   "name": "python",
   "nbconvert_exporter": "python",
   "pygments_lexer": "ipython3",
   "version": "3.7.1"
  }
 },
 "nbformat": 4,
 "nbformat_minor": 1
}
